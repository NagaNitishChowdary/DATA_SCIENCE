{
 "cells": [
  {
   "cell_type": "markdown",
   "metadata": {
    "id": "f1vmB2mkQxEX"
   },
   "source": [
    "## Concatenate"
   ]
  },
  {
   "cell_type": "code",
   "execution_count": 11,
   "metadata": {},
   "outputs": [],
   "source": [
    "list1 = [1,2,3,45]"
   ]
  },
  {
   "cell_type": "code",
   "execution_count": 13,
   "metadata": {},
   "outputs": [],
   "source": [
    "list2 = [10,11,67,56]"
   ]
  },
  {
   "cell_type": "code",
   "execution_count": 14,
   "metadata": {
    "colab": {
     "base_uri": "https://localhost:8080/"
    },
    "executionInfo": {
     "elapsed": 479,
     "status": "ok",
     "timestamp": 1674332002173,
     "user": {
      "displayName": "Chennaveer Jogur",
      "userId": "08412919184894538156"
     },
     "user_tz": -330
    },
    "id": "BUY-qt7nQxEX",
    "outputId": "2e76c0d4-f5a2-44d2-9cf9-a6cfdcbe82c0"
   },
   "outputs": [
    {
     "data": {
      "text/plain": [
       "[1, 2, 3, 45, 10, 11, 67, 56]"
      ]
     },
     "execution_count": 14,
     "metadata": {},
     "output_type": "execute_result"
    }
   ],
   "source": [
    "new_list=list1 + list2\n",
    "new_list"
   ]
  },
  {
   "cell_type": "code",
   "execution_count": 15,
   "metadata": {
    "id": "LDAKvLx7966I"
   },
   "outputs": [],
   "source": [
    "tup1=(10,20,30,40,50)"
   ]
  },
  {
   "cell_type": "code",
   "execution_count": 16,
   "metadata": {},
   "outputs": [],
   "source": [
    "tup2 =(1,3,10,56)"
   ]
  },
  {
   "cell_type": "code",
   "execution_count": 17,
   "metadata": {
    "colab": {
     "base_uri": "https://localhost:8080/"
    },
    "executionInfo": {
     "elapsed": 12,
     "status": "ok",
     "timestamp": 1674332153636,
     "user": {
      "displayName": "Chennaveer Jogur",
      "userId": "08412919184894538156"
     },
     "user_tz": -330
    },
    "id": "BqqqY4pkQxEX",
    "outputId": "3cacf953-c9d2-411e-ef33-1b644d0d744c"
   },
   "outputs": [
    {
     "data": {
      "text/plain": [
       "(10, 20, 30, 40, 50, 1, 3, 10, 56)"
      ]
     },
     "execution_count": 17,
     "metadata": {},
     "output_type": "execute_result"
    }
   ],
   "source": [
    "tup3 = tup1 + tup2\n",
    "tup3"
   ]
  },
  {
   "cell_type": "code",
   "execution_count": 75,
   "metadata": {
    "id": "1lKn1avpQxEY",
    "scrolled": true
   },
   "outputs": [
    {
     "data": {
      "text/plain": [
       "'abcxyz'"
      ]
     },
     "execution_count": 75,
     "metadata": {},
     "output_type": "execute_result"
    }
   ],
   "source": [
    "'abc' + 'xyz'"
   ]
  },
  {
   "cell_type": "code",
   "execution_count": 7,
   "metadata": {},
   "outputs": [],
   "source": [
    "s1 = {1,2,3}\n",
    "s2 = {4,5,6}"
   ]
  },
  {
   "cell_type": "markdown",
   "metadata": {
    "id": "2SWq-8RLQxEb"
   },
   "source": [
    "## Adding elements to list"
   ]
  },
  {
   "cell_type": "code",
   "execution_count": 15,
   "metadata": {},
   "outputs": [
    {
     "data": {
      "text/plain": [
       "[1, 2, 3, 45, 10, [20, 30]]"
      ]
     },
     "execution_count": 15,
     "metadata": {},
     "output_type": "execute_result"
    }
   ],
   "source": [
    "list1 = [1,2,3,45,10,[20,30]]\n",
    "list1"
   ]
  },
  {
   "cell_type": "code",
   "execution_count": 16,
   "metadata": {
    "id": "Ya9XHRETQxEb"
   },
   "outputs": [
    {
     "data": {
      "text/plain": [
       "[1, 2, 3, 45, 10, [20, 30], 10]"
      ]
     },
     "execution_count": 16,
     "metadata": {},
     "output_type": "execute_result"
    }
   ],
   "source": [
    "list1.append(10)\n",
    "list1"
   ]
  },
  {
   "cell_type": "code",
   "execution_count": 17,
   "metadata": {},
   "outputs": [
    {
     "data": {
      "text/plain": [
       "[1, 2, 3, 45, 10, [20, 30], 10, [100, 300]]"
      ]
     },
     "execution_count": 17,
     "metadata": {},
     "output_type": "execute_result"
    }
   ],
   "source": [
    "list1.append([100,300])\n",
    "list1"
   ]
  },
  {
   "cell_type": "code",
   "execution_count": 18,
   "metadata": {},
   "outputs": [],
   "source": [
    "list1.append((40,50))"
   ]
  },
  {
   "cell_type": "code",
   "execution_count": 17,
   "metadata": {},
   "outputs": [
    {
     "data": {
      "text/plain": [
       "[1, 2, 3, 45, 10, [20, 30], 10, [100, 300], (40, 50)]"
      ]
     },
     "execution_count": 17,
     "metadata": {},
     "output_type": "execute_result"
    }
   ],
   "source": [
    "list1"
   ]
  },
  {
   "cell_type": "code",
   "execution_count": 19,
   "metadata": {},
   "outputs": [],
   "source": [
    "list1.append({1,4,5})"
   ]
  },
  {
   "cell_type": "code",
   "execution_count": 88,
   "metadata": {},
   "outputs": [
    {
     "data": {
      "text/plain": [
       "[1, 2, 3, 45, 10, [20, 30], 10, [100, 300], (40, 50), {1, 4, 5}]"
      ]
     },
     "execution_count": 88,
     "metadata": {},
     "output_type": "execute_result"
    }
   ],
   "source": [
    "list1"
   ]
  },
  {
   "cell_type": "code",
   "execution_count": 19,
   "metadata": {
    "id": "Co12hDwGQxEc"
   },
   "outputs": [
    {
     "data": {
      "text/plain": [
       "[1, 2, 3, 45, 10, [20, 30], 10, [100, 300], (40, 50), {1, 4, 5}]"
      ]
     },
     "execution_count": 19,
     "metadata": {},
     "output_type": "execute_result"
    }
   ],
   "source": [
    "list1"
   ]
  },
  {
   "cell_type": "code",
   "execution_count": 20,
   "metadata": {
    "id": "b66PghtQQxEc"
   },
   "outputs": [
    {
     "data": {
      "text/plain": [
       "[1, 2, 3, 45, 67, 10, [20, 30], 10, [100, 300], (40, 50), {1, 4, 5}]"
      ]
     },
     "execution_count": 20,
     "metadata": {},
     "output_type": "execute_result"
    }
   ],
   "source": [
    "list1.insert(4,67)\n",
    "list1"
   ]
  },
  {
   "cell_type": "code",
   "execution_count": 21,
   "metadata": {},
   "outputs": [
    {
     "data": {
      "text/plain": [
       "[1, 2, 3, 45, 10, [20, 30], 15, [100, 300], (40, 50), {1, 4, 5}]"
      ]
     },
     "execution_count": 21,
     "metadata": {},
     "output_type": "execute_result"
    }
   ],
   "source": [
    "list1"
   ]
  },
  {
   "cell_type": "code",
   "execution_count": 23,
   "metadata": {
    "id": "w1wR5ZtYQxEc"
   },
   "outputs": [
    {
     "data": {
      "text/plain": [
       "[1, 2, 3, 45, 10, [20, 30, 5], 15, [100, 300], (40, 50), {1, 4, 5}]"
      ]
     },
     "execution_count": 23,
     "metadata": {},
     "output_type": "execute_result"
    }
   ],
   "source": [
    "list1[5] += [5]\n",
    "list1"
   ]
  },
  {
   "cell_type": "code",
   "execution_count": 24,
   "metadata": {},
   "outputs": [
    {
     "ename": "TypeError",
     "evalue": "unsupported operand type(s) for +=: 'int' and 'list'",
     "output_type": "error",
     "traceback": [
      "\u001b[1;31m---------------------------------------------------------------------------\u001b[0m",
      "\u001b[1;31mTypeError\u001b[0m                                 Traceback (most recent call last)",
      "Cell \u001b[1;32mIn[24], line 1\u001b[0m\n\u001b[1;32m----> 1\u001b[0m list1[\u001b[38;5;241m1\u001b[39m]\u001b[38;5;241m+\u001b[39m\u001b[38;5;241m=\u001b[39m [\u001b[38;5;241m5\u001b[39m]\n",
      "\u001b[1;31mTypeError\u001b[0m: unsupported operand type(s) for +=: 'int' and 'list'"
     ]
    }
   ],
   "source": [
    "list1[1]+= [5]"
   ]
  },
  {
   "cell_type": "code",
   "execution_count": 22,
   "metadata": {
    "id": "adz2nUNnQxEc"
   },
   "outputs": [
    {
     "data": {
      "text/plain": [
       "[1, 55, 66, 77, 72, 10, [20, 30], 10, [100, 300], (40, 50), {1, 4, 5}]"
      ]
     },
     "execution_count": 22,
     "metadata": {},
     "output_type": "execute_result"
    }
   ],
   "source": [
    "list1[1:4] = [55,66,77]\n",
    "list1"
   ]
  },
  {
   "cell_type": "code",
   "execution_count": 23,
   "metadata": {},
   "outputs": [
    {
     "data": {
      "text/plain": [
       "20"
      ]
     },
     "execution_count": 23,
     "metadata": {},
     "output_type": "execute_result"
    }
   ],
   "source": [
    "list1[6][0]"
   ]
  },
  {
   "cell_type": "markdown",
   "metadata": {
    "id": "ssxcAskFQxEd"
   },
   "source": [
    "## Remove elements"
   ]
  },
  {
   "cell_type": "code",
   "execution_count": 55,
   "metadata": {
    "colab": {
     "base_uri": "https://localhost:8080/"
    },
    "executionInfo": {
     "elapsed": 497,
     "status": "ok",
     "timestamp": 1674334308697,
     "user": {
      "displayName": "Chennaveer Jogur",
      "userId": "08412919184894538156"
     },
     "user_tz": -330
    },
    "id": "uWEZXq1eQxEd",
    "outputId": "97112639-5bd6-42fd-86ef-0a4abb53c7b7"
   },
   "outputs": [
    {
     "data": {
      "text/plain": [
       "[10, 20, 30, 40, 50, 60, 70, 80, 90, 100]"
      ]
     },
     "execution_count": 55,
     "metadata": {},
     "output_type": "execute_result"
    }
   ],
   "source": [
    "lst = [10,20,30,40,50,60,70,80,90,100]\n",
    "lst"
   ]
  },
  {
   "cell_type": "code",
   "execution_count": 56,
   "metadata": {
    "id": "NxVaJGnTQxEd"
   },
   "outputs": [],
   "source": [
    "del lst[1:4]"
   ]
  },
  {
   "cell_type": "code",
   "execution_count": 57,
   "metadata": {
    "colab": {
     "base_uri": "https://localhost:8080/"
    },
    "executionInfo": {
     "elapsed": 499,
     "status": "ok",
     "timestamp": 1674334341967,
     "user": {
      "displayName": "Chennaveer Jogur",
      "userId": "08412919184894538156"
     },
     "user_tz": -330
    },
    "id": "Ep_hPN3nQxEd",
    "outputId": "753795d8-95d8-48b4-9899-3bb140b095f8"
   },
   "outputs": [
    {
     "data": {
      "text/plain": [
       "[10, 50, 60, 70, 80, 90, 100]"
      ]
     },
     "execution_count": 57,
     "metadata": {},
     "output_type": "execute_result"
    }
   ],
   "source": [
    "lst"
   ]
  },
  {
   "cell_type": "code",
   "execution_count": 38,
   "metadata": {
    "id": "j-WNNXt4QxEd"
   },
   "outputs": [
    {
     "data": {
      "text/plain": [
       "100"
      ]
     },
     "execution_count": 38,
     "metadata": {},
     "output_type": "execute_result"
    }
   ],
   "source": [
    "lst.pop()"
   ]
  },
  {
   "cell_type": "code",
   "execution_count": 39,
   "metadata": {
    "id": "tt4YwAP6QxEd"
   },
   "outputs": [
    {
     "data": {
      "text/plain": [
       "[10, 50, 60, 70, 80, 90]"
      ]
     },
     "execution_count": 39,
     "metadata": {},
     "output_type": "execute_result"
    }
   ],
   "source": [
    "lst"
   ]
  },
  {
   "cell_type": "code",
   "execution_count": 40,
   "metadata": {
    "colab": {
     "base_uri": "https://localhost:8080/"
    },
    "executionInfo": {
     "elapsed": 483,
     "status": "ok",
     "timestamp": 1674334537080,
     "user": {
      "displayName": "Chennaveer Jogur",
      "userId": "08412919184894538156"
     },
     "user_tz": -330
    },
    "id": "Ru5VicnMQxEd",
    "outputId": "21b3dff2-7d1e-4b2c-a808-fa17e1551e4a"
   },
   "outputs": [
    {
     "data": {
      "text/plain": [
       "60"
      ]
     },
     "execution_count": 40,
     "metadata": {},
     "output_type": "execute_result"
    }
   ],
   "source": [
    "lst.pop(2)"
   ]
  },
  {
   "cell_type": "code",
   "execution_count": 41,
   "metadata": {},
   "outputs": [
    {
     "data": {
      "text/plain": [
       "[10, 50, 70, 80, 90]"
      ]
     },
     "execution_count": 41,
     "metadata": {},
     "output_type": "execute_result"
    }
   ],
   "source": [
    "lst"
   ]
  },
  {
   "cell_type": "code",
   "execution_count": 42,
   "metadata": {
    "id": "t4JbUC1pQxEd"
   },
   "outputs": [],
   "source": [
    "lst.remove(70)"
   ]
  },
  {
   "cell_type": "code",
   "execution_count": 43,
   "metadata": {
    "id": "9F3s8Q9RQxEe"
   },
   "outputs": [
    {
     "data": {
      "text/plain": [
       "[10, 50, 80, 90]"
      ]
     },
     "execution_count": 43,
     "metadata": {},
     "output_type": "execute_result"
    }
   ],
   "source": [
    "lst"
   ]
  },
  {
   "cell_type": "code",
   "execution_count": 44,
   "metadata": {},
   "outputs": [
    {
     "data": {
      "text/plain": [
       "[10, 80, 90]"
      ]
     },
     "execution_count": 44,
     "metadata": {},
     "output_type": "execute_result"
    }
   ],
   "source": [
    "lst.remove(50)\n",
    "lst"
   ]
  },
  {
   "cell_type": "code",
   "execution_count": 67,
   "metadata": {},
   "outputs": [
    {
     "data": {
      "text/plain": [
       "4"
      ]
     },
     "execution_count": 67,
     "metadata": {},
     "output_type": "execute_result"
    }
   ],
   "source": [
    "lst1 =[40,20,30,40,40,40]\n",
    "lst1.count(40)"
   ]
  },
  {
   "cell_type": "code",
   "execution_count": 51,
   "metadata": {},
   "outputs": [],
   "source": [
    "lst1.remove(40)"
   ]
  },
  {
   "cell_type": "code",
   "execution_count": 53,
   "metadata": {},
   "outputs": [
    {
     "data": {
      "text/plain": [
       "[20, 30, 40, 40, 40]"
      ]
     },
     "execution_count": 53,
     "metadata": {},
     "output_type": "execute_result"
    }
   ],
   "source": [
    "lst1"
   ]
  },
  {
   "cell_type": "code",
   "execution_count": 54,
   "metadata": {},
   "outputs": [
    {
     "data": {
      "text/plain": [
       "[20, 30, 40]"
      ]
     },
     "execution_count": 54,
     "metadata": {},
     "output_type": "execute_result"
    }
   ],
   "source": [
    "del lst1[2:4]\n",
    "lst1"
   ]
  },
  {
   "cell_type": "code",
   "execution_count": 96,
   "metadata": {},
   "outputs": [],
   "source": [
    "del lst1"
   ]
  },
  {
   "cell_type": "code",
   "execution_count": 97,
   "metadata": {},
   "outputs": [
    {
     "ename": "NameError",
     "evalue": "name 'lst1' is not defined",
     "output_type": "error",
     "traceback": [
      "\u001b[1;31m---------------------------------------------------------------------------\u001b[0m",
      "\u001b[1;31mNameError\u001b[0m                                 Traceback (most recent call last)",
      "Cell \u001b[1;32mIn[97], line 1\u001b[0m\n\u001b[1;32m----> 1\u001b[0m lst1\n",
      "\u001b[1;31mNameError\u001b[0m: name 'lst1' is not defined"
     ]
    }
   ],
   "source": [
    "lst1"
   ]
  },
  {
   "cell_type": "code",
   "execution_count": 71,
   "metadata": {
    "id": "58erH5W8QxEe"
   },
   "outputs": [
    {
     "data": {
      "text/plain": [
       "(1, 2, 4)"
      ]
     },
     "execution_count": 71,
     "metadata": {},
     "output_type": "execute_result"
    }
   ],
   "source": [
    "tup1 = (1,2,4)\n",
    "# x=tup1.pop()\n",
    "tup1"
   ]
  },
  {
   "cell_type": "code",
   "execution_count": 99,
   "metadata": {
    "id": "5KpPjyNTQxEe"
   },
   "outputs": [
    {
     "ename": "AttributeError",
     "evalue": "'tuple' object has no attribute 'clear'",
     "output_type": "error",
     "traceback": [
      "\u001b[1;31m---------------------------------------------------------------------------\u001b[0m",
      "\u001b[1;31mAttributeError\u001b[0m                            Traceback (most recent call last)",
      "Cell \u001b[1;32mIn[99], line 1\u001b[0m\n\u001b[1;32m----> 1\u001b[0m tup1\u001b[38;5;241m.\u001b[39mclear()\n\u001b[0;32m      2\u001b[0m tup1\n",
      "\u001b[1;31mAttributeError\u001b[0m: 'tuple' object has no attribute 'clear'"
     ]
    }
   ],
   "source": [
    "tup1.clear()\n",
    "tup1"
   ]
  },
  {
   "cell_type": "code",
   "execution_count": 72,
   "metadata": {},
   "outputs": [],
   "source": [
    "del tup1"
   ]
  },
  {
   "cell_type": "code",
   "execution_count": 1,
   "metadata": {},
   "outputs": [],
   "source": []
  },
  {
   "cell_type": "markdown",
   "metadata": {
    "id": "n833VbCQQxEe"
   },
   "source": [
    "## Reverse"
   ]
  },
  {
   "cell_type": "code",
   "execution_count": 73,
   "metadata": {
    "id": "PxKe5XFuQxEe"
   },
   "outputs": [
    {
     "data": {
      "text/plain": [
       "[10, 20, 30, 40, 500, 50, 60, 99, 70, 80, 90, 100]"
      ]
     },
     "execution_count": 73,
     "metadata": {},
     "output_type": "execute_result"
    }
   ],
   "source": [
    "lst = [10,20,30,40,500,50,60,99,70,80,90,100]\n",
    "lst"
   ]
  },
  {
   "cell_type": "code",
   "execution_count": 74,
   "metadata": {
    "id": "C4mwQzc-QxEe"
   },
   "outputs": [],
   "source": [
    "lst.reverse()"
   ]
  },
  {
   "cell_type": "code",
   "execution_count": 76,
   "metadata": {
    "id": "Y2vcfOrXQxEf"
   },
   "outputs": [
    {
     "data": {
      "text/plain": [
       "[100, 90, 80, 70, 99, 60, 50, 500, 40, 30, 20, 10]"
      ]
     },
     "execution_count": 76,
     "metadata": {},
     "output_type": "execute_result"
    }
   ],
   "source": [
    "lst"
   ]
  },
  {
   "cell_type": "code",
   "execution_count": 77,
   "metadata": {
    "id": "GUDrt3sXQxEf"
   },
   "outputs": [
    {
     "data": {
      "text/plain": [
       "[10, 20, 30, 77, 11, 40, 50, 60, 70, 99, 80, 90, 100]"
      ]
     },
     "execution_count": 77,
     "metadata": {},
     "output_type": "execute_result"
    }
   ],
   "source": [
    "lst = [10,20,30,77,11,40,50,60,70,99,80,90,100]\n",
    "lst"
   ]
  },
  {
   "cell_type": "code",
   "execution_count": 78,
   "metadata": {
    "id": "IsWVsaRvQxEf"
   },
   "outputs": [
    {
     "data": {
      "text/plain": [
       "[100, 90, 80, 99, 70, 60, 50, 40, 11, 77, 30, 20, 10]"
      ]
     },
     "execution_count": 78,
     "metadata": {},
     "output_type": "execute_result"
    }
   ],
   "source": [
    "lst[::-1] # This is applicable for all sequences,This will not change the original list"
   ]
  },
  {
   "cell_type": "code",
   "execution_count": 79,
   "metadata": {
    "id": "bNRewwG-QxEf"
   },
   "outputs": [
    {
     "data": {
      "text/plain": [
       "[10, 20, 30, 77, 11, 40, 50, 60, 70, 99, 80, 90, 100]"
      ]
     },
     "execution_count": 79,
     "metadata": {},
     "output_type": "execute_result"
    }
   ],
   "source": [
    "lst"
   ]
  },
  {
   "cell_type": "code",
   "execution_count": 1,
   "metadata": {},
   "outputs": [
    {
     "data": {
      "text/plain": [
       "(0, 9, 4)"
      ]
     },
     "execution_count": 1,
     "metadata": {},
     "output_type": "execute_result"
    }
   ],
   "source": [
    "t =(4,9,0)\n",
    "t[::-1]"
   ]
  },
  {
   "cell_type": "code",
   "execution_count": 2,
   "metadata": {},
   "outputs": [
    {
     "data": {
      "text/plain": [
       "(4, 9, 0)"
      ]
     },
     "execution_count": 2,
     "metadata": {},
     "output_type": "execute_result"
    }
   ],
   "source": [
    "t"
   ]
  },
  {
   "cell_type": "markdown",
   "metadata": {
    "id": "wW9iIbWRQxEf"
   },
   "source": [
    "## Sort"
   ]
  },
  {
   "cell_type": "code",
   "execution_count": 80,
   "metadata": {
    "id": "SsZdPGUxQxEf"
   },
   "outputs": [],
   "source": [
    "lst = [100,1,200,600,20,67,123,4,9,2000]"
   ]
  },
  {
   "cell_type": "code",
   "execution_count": 83,
   "metadata": {
    "id": "5D4Q8FZsQxEf"
   },
   "outputs": [],
   "source": [
    "lst.sort()"
   ]
  },
  {
   "cell_type": "code",
   "execution_count": 84,
   "metadata": {
    "id": "8-hyah2SQxEf"
   },
   "outputs": [
    {
     "data": {
      "text/plain": [
       "[1, 4, 9, 20, 67, 100, 123, 200, 600, 2000]"
      ]
     },
     "execution_count": 84,
     "metadata": {},
     "output_type": "execute_result"
    }
   ],
   "source": [
    "lst"
   ]
  },
  {
   "cell_type": "code",
   "execution_count": 9,
   "metadata": {
    "id": "wmD6PeSMQxEg"
   },
   "outputs": [],
   "source": [
    "lst.sort(reverse = True)"
   ]
  },
  {
   "cell_type": "code",
   "execution_count": 10,
   "metadata": {},
   "outputs": [
    {
     "data": {
      "text/plain": [
       "[2000, 600, 200, 123, 100, 67, 20, 9, 4, 1]"
      ]
     },
     "execution_count": 10,
     "metadata": {},
     "output_type": "execute_result"
    }
   ],
   "source": [
    "lst"
   ]
  },
  {
   "cell_type": "code",
   "execution_count": 88,
   "metadata": {},
   "outputs": [],
   "source": [
    "lst1 = [200,56,90,-70,57]"
   ]
  },
  {
   "cell_type": "code",
   "execution_count": 89,
   "metadata": {},
   "outputs": [
    {
     "data": {
      "text/plain": [
       "[200, 90, 57, 56, -70]"
      ]
     },
     "execution_count": 89,
     "metadata": {},
     "output_type": "execute_result"
    }
   ],
   "source": [
    "sorted(lst1, reverse = True)"
   ]
  },
  {
   "cell_type": "code",
   "execution_count": 90,
   "metadata": {},
   "outputs": [
    {
     "data": {
      "text/plain": [
       "[200, 56, 90, -70, 57]"
      ]
     },
     "execution_count": 90,
     "metadata": {},
     "output_type": "execute_result"
    }
   ],
   "source": [
    "lst1"
   ]
  },
  {
   "cell_type": "code",
   "execution_count": 53,
   "metadata": {
    "colab": {
     "base_uri": "https://localhost:8080/"
    },
    "executionInfo": {
     "elapsed": 495,
     "status": "ok",
     "timestamp": 1674336434091,
     "user": {
      "displayName": "Chennaveer Jogur",
      "userId": "08412919184894538156"
     },
     "user_tz": -330
    },
    "id": "ApQqM3YJQxEg",
    "outputId": "5901fa70-fa40-4140-bd33-d90cbfd40702"
   },
   "outputs": [
    {
     "data": {
      "text/plain": [
       "['abstract', 'absent', 'c', 'c++', 'python', 'java', 'apple123']"
      ]
     },
     "execution_count": 53,
     "metadata": {},
     "output_type": "execute_result"
    }
   ],
   "source": [
    "list3 = ['abstract','absent','c','c++','python','java','apple123']\n",
    "list3"
   ]
  },
  {
   "cell_type": "code",
   "execution_count": 54,
   "metadata": {
    "id": "7eYCEyw6QxEg"
   },
   "outputs": [
    {
     "data": {
      "text/plain": [
       "['absent', 'abstract', 'apple123', 'c', 'c++', 'java', 'python']"
      ]
     },
     "execution_count": 54,
     "metadata": {},
     "output_type": "execute_result"
    }
   ],
   "source": [
    "list3.sort()\n",
    "list3"
   ]
  },
  {
   "cell_type": "code",
   "execution_count": 13,
   "metadata": {},
   "outputs": [],
   "source": [
    "l1 =[10,8,56,100,200]\n",
    "l2 = l1.copy()"
   ]
  },
  {
   "cell_type": "code",
   "execution_count": 14,
   "metadata": {},
   "outputs": [],
   "source": [
    "l2.sort()"
   ]
  },
  {
   "cell_type": "code",
   "execution_count": 15,
   "metadata": {},
   "outputs": [
    {
     "data": {
      "text/plain": [
       "[8, 10, 56, 100, 200]"
      ]
     },
     "execution_count": 15,
     "metadata": {},
     "output_type": "execute_result"
    }
   ],
   "source": [
    "l2"
   ]
  },
  {
   "cell_type": "code",
   "execution_count": 16,
   "metadata": {},
   "outputs": [
    {
     "data": {
      "text/plain": [
       "[10, 8, 56, 100, 200]"
      ]
     },
     "execution_count": 16,
     "metadata": {},
     "output_type": "execute_result"
    }
   ],
   "source": [
    "l1"
   ]
  },
  {
   "cell_type": "markdown",
   "metadata": {
    "id": "_zMExwTGQxEh"
   },
   "source": [
    "### String methods"
   ]
  },
  {
   "cell_type": "code",
   "execution_count": 92,
   "metadata": {
    "colab": {
     "base_uri": "https://localhost:8080/",
     "height": 35
    },
    "executionInfo": {
     "elapsed": 523,
     "status": "ok",
     "timestamp": 1674336892247,
     "user": {
      "displayName": "Chennaveer Jogur",
      "userId": "08412919184894538156"
     },
     "user_tz": -330
    },
    "id": "ri2vDNL_QxEh",
    "outputId": "40058b44-08b1-4d4f-87c9-3753a4c9b33c"
   },
   "outputs": [
    {
     "data": {
      "text/plain": [
       "'Python is a programminglanguage'"
      ]
     },
     "execution_count": 92,
     "metadata": {},
     "output_type": "execute_result"
    }
   ],
   "source": [
    "my_str = \"python is a programminglanguage\"\n",
    "my_str.capitalize()"
   ]
  },
  {
   "cell_type": "code",
   "execution_count": 95,
   "metadata": {
    "colab": {
     "base_uri": "https://localhost:8080/",
     "height": 35
    },
    "executionInfo": {
     "elapsed": 517,
     "status": "ok",
     "timestamp": 1674336904832,
     "user": {
      "displayName": "Chennaveer Jogur",
      "userId": "08412919184894538156"
     },
     "user_tz": -330
    },
    "id": "RSAw5ybWQxEh",
    "outputId": "46ebe65c-4fa0-4fcc-bf90-3b74e40fd0d6"
   },
   "outputs": [
    {
     "data": {
      "text/plain": [
       "'Hello world'"
      ]
     },
     "execution_count": 95,
     "metadata": {},
     "output_type": "execute_result"
    }
   ],
   "source": [
    "my_str1 = \"hello world\"\n",
    "my_str1.capitalize()"
   ]
  },
  {
   "cell_type": "code",
   "execution_count": 96,
   "metadata": {},
   "outputs": [
    {
     "data": {
      "text/plain": [
       "'hello world'"
      ]
     },
     "execution_count": 96,
     "metadata": {},
     "output_type": "execute_result"
    }
   ],
   "source": [
    "my_str1"
   ]
  },
  {
   "cell_type": "code",
   "execution_count": 20,
   "metadata": {
    "colab": {
     "base_uri": "https://localhost:8080/",
     "height": 35
    },
    "executionInfo": {
     "elapsed": 497,
     "status": "ok",
     "timestamp": 1674336993525,
     "user": {
      "displayName": "Chennaveer Jogur",
      "userId": "08412919184894538156"
     },
     "user_tz": -330
    },
    "id": "5L-3h9h2QxEh",
    "outputId": "5eccf0b9-00d4-425a-e230-29a2589a4ebe"
   },
   "outputs": [
    {
     "data": {
      "text/plain": [
       "'Hello World'"
      ]
     },
     "execution_count": 20,
     "metadata": {},
     "output_type": "execute_result"
    }
   ],
   "source": [
    "my_str1.title()"
   ]
  },
  {
   "cell_type": "code",
   "execution_count": 97,
   "metadata": {
    "id": "wQJzpu3IQxEh"
   },
   "outputs": [
    {
     "data": {
      "text/plain": [
       "'hello world'"
      ]
     },
     "execution_count": 97,
     "metadata": {},
     "output_type": "execute_result"
    }
   ],
   "source": [
    "my_str1.lower()"
   ]
  },
  {
   "cell_type": "code",
   "execution_count": 98,
   "metadata": {
    "id": "oODmbFBuQxEi"
   },
   "outputs": [
    {
     "data": {
      "text/plain": [
       "'HELLO WORLD'"
      ]
     },
     "execution_count": 98,
     "metadata": {},
     "output_type": "execute_result"
    }
   ],
   "source": [
    "my_str1.upper()"
   ]
  },
  {
   "cell_type": "code",
   "execution_count": 23,
   "metadata": {
    "colab": {
     "base_uri": "https://localhost:8080/",
     "height": 35
    },
    "executionInfo": {
     "elapsed": 494,
     "status": "ok",
     "timestamp": 1674337099944,
     "user": {
      "displayName": "Chennaveer Jogur",
      "userId": "08412919184894538156"
     },
     "user_tz": -330
    },
    "id": "dO-MnkodQxEi",
    "outputId": "601e3d2c-ebaf-4dae-d869-efecc8a140b9"
   },
   "outputs": [
    {
     "data": {
      "text/plain": [
       "'python'"
      ]
     },
     "execution_count": 23,
     "metadata": {},
     "output_type": "execute_result"
    }
   ],
   "source": [
    "'PYTHON'.lower()"
   ]
  },
  {
   "cell_type": "code",
   "execution_count": 99,
   "metadata": {
    "colab": {
     "base_uri": "https://localhost:8080/",
     "height": 35
    },
    "executionInfo": {
     "elapsed": 11,
     "status": "ok",
     "timestamp": 1674337183725,
     "user": {
      "displayName": "Chennaveer Jogur",
      "userId": "08412919184894538156"
     },
     "user_tz": -330
    },
    "id": "a3sd19vfQxEi",
    "outputId": "8f3ff0d4-1de4-44cf-a725-17905fb03681"
   },
   "outputs": [
    {
     "data": {
      "text/plain": [
       "'pYTHON cLASS'"
      ]
     },
     "execution_count": 99,
     "metadata": {},
     "output_type": "execute_result"
    }
   ],
   "source": [
    "'Python Class '.swapcase()"
   ]
  },
  {
   "cell_type": "code",
   "execution_count": 25,
   "metadata": {
    "colab": {
     "base_uri": "https://localhost:8080/"
    },
    "executionInfo": {
     "elapsed": 496,
     "status": "ok",
     "timestamp": 1674337229853,
     "user": {
      "displayName": "Chennaveer Jogur",
      "userId": "08412919184894538156"
     },
     "user_tz": -330
    },
    "id": "2OnncJALQxEi",
    "outputId": "e9610473-e1c8-4f79-c313-3983efa97431"
   },
   "outputs": [
    {
     "data": {
      "text/plain": [
       "(True, False)"
      ]
     },
     "execution_count": 25,
     "metadata": {},
     "output_type": "execute_result"
    }
   ],
   "source": [
    "'python'.endswith('on'), 'python'.endswith('ab')"
   ]
  },
  {
   "cell_type": "code",
   "execution_count": 26,
   "metadata": {
    "colab": {
     "base_uri": "https://localhost:8080/"
    },
    "executionInfo": {
     "elapsed": 530,
     "status": "ok",
     "timestamp": 1674337246507,
     "user": {
      "displayName": "Chennaveer Jogur",
      "userId": "08412919184894538156"
     },
     "user_tz": -330
    },
    "id": "hvJenjEyQxEi",
    "outputId": "65d16c4a-a227-4e08-9861-6af0fd30b4df"
   },
   "outputs": [
    {
     "data": {
      "text/plain": [
       "(True, False)"
      ]
     },
     "execution_count": 26,
     "metadata": {},
     "output_type": "execute_result"
    }
   ],
   "source": [
    "'python'.startswith('py'), 'python'.startswith('cd')"
   ]
  },
  {
   "cell_type": "code",
   "execution_count": 30,
   "metadata": {
    "colab": {
     "base_uri": "https://localhost:8080/"
    },
    "executionInfo": {
     "elapsed": 723,
     "status": "ok",
     "timestamp": 1674337251564,
     "user": {
      "displayName": "Chennaveer Jogur",
      "userId": "08412919184894538156"
     },
     "user_tz": -330
    },
    "id": "7yAyGlPkQxEi",
    "outputId": "b7812ca0-339a-496f-9403-0cfa3511bb5a"
   },
   "outputs": [
    {
     "data": {
      "text/plain": [
       "True"
      ]
     },
     "execution_count": 30,
     "metadata": {},
     "output_type": "execute_result"
    }
   ],
   "source": [
    "my_str.startswith('py')"
   ]
  },
  {
   "cell_type": "code",
   "execution_count": 101,
   "metadata": {
    "id": "qanQrMtCQxEi"
   },
   "outputs": [],
   "source": [
    "my_str = 'pyttthon progoram'"
   ]
  },
  {
   "cell_type": "code",
   "execution_count": 109,
   "metadata": {
    "colab": {
     "base_uri": "https://localhost:8080/"
    },
    "executionInfo": {
     "elapsed": 479,
     "status": "ok",
     "timestamp": 1674337269561,
     "user": {
      "displayName": "Chennaveer Jogur",
      "userId": "08412919184894538156"
     },
     "user_tz": -330
    },
    "id": "YsgsBHa_QxEi",
    "outputId": "f7cc7a95-5cd5-4617-eace-2764267213fe"
   },
   "outputs": [
    {
     "data": {
      "text/plain": [
       "11"
      ]
     },
     "execution_count": 109,
     "metadata": {},
     "output_type": "execute_result"
    }
   ],
   "source": [
    "# find the first occurance of a letter and return the index position\n",
    "my_str.find('o',7,13)"
   ]
  },
  {
   "cell_type": "code",
   "execution_count": null,
   "metadata": {
    "colab": {
     "base_uri": "https://localhost:8080/"
    },
    "executionInfo": {
     "elapsed": 1045,
     "status": "ok",
     "timestamp": 1674337275091,
     "user": {
      "displayName": "Chennaveer Jogur",
      "userId": "08412919184894538156"
     },
     "user_tz": -330
    },
    "id": "8arGNLUiQxEi",
    "outputId": "5c3addf6-1b99-48ad-cce8-0d5d49ced516"
   },
   "outputs": [],
   "source": [
    "my_str.find('a')"
   ]
  },
  {
   "cell_type": "code",
   "execution_count": 110,
   "metadata": {
    "colab": {
     "base_uri": "https://localhost:8080/"
    },
    "executionInfo": {
     "elapsed": 667,
     "status": "ok",
     "timestamp": 1674337808338,
     "user": {
      "displayName": "Chennaveer Jogur",
      "userId": "08412919184894538156"
     },
     "user_tz": -330
    },
    "id": "I5scBSENQxEj",
    "outputId": "4a2764af-8c02-49a2-d3e5-8aff01482a04"
   },
   "outputs": [
    {
     "data": {
      "text/plain": [
       "(True, False)"
      ]
     },
     "execution_count": 110,
     "metadata": {},
     "output_type": "execute_result"
    }
   ],
   "source": [
    "' '.isspace(), ''.isspace()"
   ]
  },
  {
   "cell_type": "code",
   "execution_count": 119,
   "metadata": {
    "colab": {
     "base_uri": "https://localhost:8080/",
     "height": 35
    },
    "executionInfo": {
     "elapsed": 493,
     "status": "ok",
     "timestamp": 1674337813356,
     "user": {
      "displayName": "Chennaveer Jogur",
      "userId": "08412919184894538156"
     },
     "user_tz": -330
    },
    "id": "29T7LLOTQxEj",
    "outputId": "bfbcaf76-25cc-4065-c1c9-e46b40c3a195"
   },
   "outputs": [
    {
     "data": {
      "text/plain": [
       "'python'"
      ]
     },
     "execution_count": 119,
     "metadata": {},
     "output_type": "execute_result"
    }
   ],
   "source": [
    "'  python  '.strip()"
   ]
  },
  {
   "cell_type": "code",
   "execution_count": 112,
   "metadata": {
    "id": "_B4o5FAGQxEj"
   },
   "outputs": [
    {
     "data": {
      "text/plain": [
       "'python    '"
      ]
     },
     "execution_count": 112,
     "metadata": {},
     "output_type": "execute_result"
    }
   ],
   "source": [
    "'   python    '.lstrip()"
   ]
  },
  {
   "cell_type": "code",
   "execution_count": 113,
   "metadata": {
    "id": "NrCB4RLkQxEj"
   },
   "outputs": [
    {
     "data": {
      "text/plain": [
       "'   python'"
      ]
     },
     "execution_count": 113,
     "metadata": {},
     "output_type": "execute_result"
    }
   ],
   "source": [
    "'   python    '.rstrip()"
   ]
  },
  {
   "cell_type": "code",
   "execution_count": 46,
   "metadata": {
    "colab": {
     "base_uri": "https://localhost:8080/"
    },
    "executionInfo": {
     "elapsed": 10,
     "status": "ok",
     "timestamp": 1674337887913,
     "user": {
      "displayName": "Chennaveer Jogur",
      "userId": "08412919184894538156"
     },
     "user_tz": -330
    },
    "id": "N6Y-OK5oQxEk",
    "outputId": "0d300a82-dd4c-4967-a748-032bf4bc32b1"
   },
   "outputs": [
    {
     "data": {
      "text/plain": [
       "['1', '2', '3']"
      ]
     },
     "execution_count": 46,
     "metadata": {},
     "output_type": "execute_result"
    }
   ],
   "source": [
    "'1,2,3'.split(',')"
   ]
  },
  {
   "cell_type": "code",
   "execution_count": 117,
   "metadata": {
    "colab": {
     "base_uri": "https://localhost:8080/"
    },
    "executionInfo": {
     "elapsed": 483,
     "status": "ok",
     "timestamp": 1674337894388,
     "user": {
      "displayName": "Chennaveer Jogur",
      "userId": "08412919184894538156"
     },
     "user_tz": -330
    },
    "id": "o83350bHQxEk",
    "outputId": "12c1ce79-9a2a-43d8-a691-f143f0b92764"
   },
   "outputs": [
    {
     "data": {
      "text/plain": [
       "['ab;cd;ef']"
      ]
     },
     "execution_count": 117,
     "metadata": {},
     "output_type": "execute_result"
    }
   ],
   "source": [
    "'ab;cd;ef'.split(';')"
   ]
  },
  {
   "cell_type": "code",
   "execution_count": 116,
   "metadata": {},
   "outputs": [
    {
     "data": {
      "text/plain": [
       "['Hi', 'Hello', 'How', 'are', 'you?']"
      ]
     },
     "execution_count": 116,
     "metadata": {},
     "output_type": "execute_result"
    }
   ],
   "source": [
    "'Hi Hello How are you?'.split()"
   ]
  },
  {
   "cell_type": "code",
   "execution_count": 123,
   "metadata": {
    "colab": {
     "base_uri": "https://localhost:8080/",
     "height": 35
    },
    "executionInfo": {
     "elapsed": 512,
     "status": "ok",
     "timestamp": 1674338132538,
     "user": {
      "displayName": "Chennaveer Jogur",
      "userId": "08412919184894538156"
     },
     "user_tz": -330
    },
    "id": "z4-qpGz7QxEk",
    "outputId": "7c0bfcef-ef05-4862-c9e6-e6e137e152c8"
   },
   "outputs": [
    {
     "data": {
      "text/plain": [
       "2"
      ]
     },
     "execution_count": 123,
     "metadata": {},
     "output_type": "execute_result"
    }
   ],
   "source": [
    "# count() method returns the number of occurrences of the substring in the given string.\n",
    "\"Welcome to python basics to\".count(\"to\")"
   ]
  },
  {
   "cell_type": "code",
   "execution_count": 127,
   "metadata": {
    "colab": {
     "base_uri": "https://localhost:8080/"
    },
    "executionInfo": {
     "elapsed": 633,
     "status": "ok",
     "timestamp": 1674338135856,
     "user": {
      "displayName": "Chennaveer Jogur",
      "userId": "08412919184894538156"
     },
     "user_tz": -330
    },
    "id": "MeeQ7E1UQxEk",
    "outputId": "786827f3-e3bf-449a-8652-7578aac459ed"
   },
   "outputs": [
    {
     "data": {
      "text/plain": [
       "1"
      ]
     },
     "execution_count": 127,
     "metadata": {},
     "output_type": "execute_result"
    }
   ],
   "source": [
    "\" Oops,This is a python class\".count(\"s\",10,15)"
   ]
  },
  {
   "cell_type": "code",
   "execution_count": 52,
   "metadata": {
    "colab": {
     "base_uri": "https://localhost:8080/",
     "height": 35
    },
    "executionInfo": {
     "elapsed": 483,
     "status": "ok",
     "timestamp": 1674338250212,
     "user": {
      "displayName": "Chennaveer Jogur",
      "userId": "08412919184894538156"
     },
     "user_tz": -330
    },
    "id": "D-cDBLMsQxEk",
    "outputId": "ec7c1014-2317-4768-86a2-7c5a9e64bbe5"
   },
   "outputs": [
    {
     "data": {
      "text/plain": [
       "\"Python is awesome, isn't it\""
      ]
     },
     "execution_count": 52,
     "metadata": {},
     "output_type": "execute_result"
    }
   ],
   "source": [
    "# define string\n",
    "string = \"Python is awesome, isn't it\"\n",
    "string"
   ]
  },
  {
   "cell_type": "code",
   "execution_count": 53,
   "metadata": {
    "colab": {
     "base_uri": "https://localhost:8080/",
     "height": 35
    },
    "executionInfo": {
     "elapsed": 511,
     "status": "ok",
     "timestamp": 1674338260685,
     "user": {
      "displayName": "Chennaveer Jogur",
      "userId": "08412919184894538156"
     },
     "user_tz": -330
    },
    "id": "LMcAHS4eQxEk",
    "outputId": "ed3eda08-85ba-44d8-9f5b-e57b7ee30e84"
   },
   "outputs": [
    {
     "data": {
      "text/plain": [
       "' '"
      ]
     },
     "execution_count": 53,
     "metadata": {},
     "output_type": "execute_result"
    }
   ],
   "source": [
    "string[6]"
   ]
  },
  {
   "cell_type": "code",
   "execution_count": 54,
   "metadata": {
    "colab": {
     "base_uri": "https://localhost:8080/",
     "height": 35
    },
    "executionInfo": {
     "elapsed": 502,
     "status": "ok",
     "timestamp": 1674338264284,
     "user": {
      "displayName": "Chennaveer Jogur",
      "userId": "08412919184894538156"
     },
     "user_tz": -330
    },
    "id": "lSYjK0ZgQxEk",
    "outputId": "e2fc665a-b8ea-4e2a-9e3c-305c59777c6c"
   },
   "outputs": [
    {
     "data": {
      "text/plain": [
       "'i'"
      ]
     },
     "execution_count": 54,
     "metadata": {},
     "output_type": "execute_result"
    }
   ],
   "source": [
    "string[25]"
   ]
  },
  {
   "cell_type": "code",
   "execution_count": 57,
   "metadata": {
    "id": "wliNukGEQxEl"
   },
   "outputs": [],
   "source": [
    "substring = \" \""
   ]
  },
  {
   "cell_type": "code",
   "execution_count": 58,
   "metadata": {},
   "outputs": [
    {
     "data": {
      "text/plain": [
       "\"Python is awesome, isn't it\""
      ]
     },
     "execution_count": 58,
     "metadata": {},
     "output_type": "execute_result"
    }
   ],
   "source": [
    "string"
   ]
  },
  {
   "cell_type": "code",
   "execution_count": 61,
   "metadata": {
    "colab": {
     "base_uri": "https://localhost:8080/"
    },
    "executionInfo": {
     "elapsed": 504,
     "status": "ok",
     "timestamp": 1674338376488,
     "user": {
      "displayName": "Chennaveer Jogur",
      "userId": "08412919184894538156"
     },
     "user_tz": -330
    },
    "id": "mKR50nX1QxEl",
    "outputId": "6c08db52-0981-4560-ef17-0b4149754c34"
   },
   "outputs": [
    {
     "data": {
      "text/plain": [
       "2"
      ]
     },
     "execution_count": 61,
     "metadata": {},
     "output_type": "execute_result"
    }
   ],
   "source": [
    "# count after first 'i' and before the last 'i'\n",
    "count1 = string.count(substring,10,25)\n",
    "count1"
   ]
  },
  {
   "cell_type": "code",
   "execution_count": 130,
   "metadata": {
    "colab": {
     "base_uri": "https://localhost:8080/",
     "height": 35
    },
    "executionInfo": {
     "elapsed": 503,
     "status": "ok",
     "timestamp": 1674338443110,
     "user": {
      "displayName": "Chennaveer Jogur",
      "userId": "08412919184894538156"
     },
     "user_tz": -330
    },
    "id": "IOHrCHTGQxEl",
    "outputId": "e130a199-dfff-4555-c190-60e0a77bb4e3"
   },
   "outputs": [
    {
     "data": {
      "text/plain": [
       "'It is very nice,it is excellent'"
      ]
     },
     "execution_count": 130,
     "metadata": {},
     "output_type": "execute_result"
    }
   ],
   "source": [
    "# Replace \n",
    "x='It is very nice,it is excellent'\n",
    "x"
   ]
  },
  {
   "cell_type": "code",
   "execution_count": 132,
   "metadata": {
    "colab": {
     "base_uri": "https://localhost:8080/",
     "height": 35
    },
    "executionInfo": {
     "elapsed": 577,
     "status": "ok",
     "timestamp": 1674338447639,
     "user": {
      "displayName": "Chennaveer Jogur",
      "userId": "08412919184894538156"
     },
     "user_tz": -330
    },
    "id": "ACyrydmhQxEl",
    "outputId": "cab05a21-d95a-4ecd-fc12-2de3910233ba"
   },
   "outputs": [
    {
     "data": {
      "text/plain": [
       "'It was very nice,it was excellent'"
      ]
     },
     "execution_count": 132,
     "metadata": {},
     "output_type": "execute_result"
    }
   ],
   "source": [
    "y=x.replace(\"is\",\"was\")\n",
    "y"
   ]
  },
  {
   "cell_type": "code",
   "execution_count": 133,
   "metadata": {},
   "outputs": [],
   "source": [
    "z =\"It is nice, It is great, It is enjoyable\""
   ]
  },
  {
   "cell_type": "code",
   "execution_count": 136,
   "metadata": {},
   "outputs": [
    {
     "data": {
      "text/plain": [
       "'It was nice, It was great, It is enjoyable'"
      ]
     },
     "execution_count": 136,
     "metadata": {},
     "output_type": "execute_result"
    }
   ],
   "source": [
    "z.replace('is', 'was',2)"
   ]
  },
  {
   "cell_type": "code",
   "execution_count": 137,
   "metadata": {},
   "outputs": [
    {
     "data": {
      "text/plain": [
       "'It is nice, It is great, It is enjoyable'"
      ]
     },
     "execution_count": 137,
     "metadata": {},
     "output_type": "execute_result"
    }
   ],
   "source": [
    "z"
   ]
  },
  {
   "cell_type": "markdown",
   "metadata": {
    "id": "8Wk9-tmaQxEl"
   },
   "source": [
    "## Variable unpacking"
   ]
  },
  {
   "cell_type": "code",
   "execution_count": 140,
   "metadata": {},
   "outputs": [
    {
     "data": {
      "text/plain": [
       "(6.7, 8)"
      ]
     },
     "execution_count": 140,
     "metadata": {},
     "output_type": "execute_result"
    }
   ],
   "source": [
    "a,b=6.7,8\n",
    "a,b"
   ]
  },
  {
   "cell_type": "code",
   "execution_count": 141,
   "metadata": {
    "colab": {
     "base_uri": "https://localhost:8080/"
    },
    "executionInfo": {
     "elapsed": 511,
     "status": "ok",
     "timestamp": 1674338479801,
     "user": {
      "displayName": "Chennaveer Jogur",
      "userId": "08412919184894538156"
     },
     "user_tz": -330
    },
    "id": "gZ0oDPZWQxEl",
    "outputId": "5f187143-29e0-45ac-9dac-3e3a4248036f",
    "scrolled": true
   },
   "outputs": [
    {
     "data": {
      "text/plain": [
       "1"
      ]
     },
     "execution_count": 141,
     "metadata": {},
     "output_type": "execute_result"
    }
   ],
   "source": [
    "x,y,z,a = [1,2,3,4,]\n",
    "x"
   ]
  },
  {
   "cell_type": "code",
   "execution_count": 8,
   "metadata": {},
   "outputs": [
    {
     "data": {
      "text/plain": [
       "1"
      ]
     },
     "execution_count": 8,
     "metadata": {},
     "output_type": "execute_result"
    }
   ],
   "source": [
    "x"
   ]
  },
  {
   "cell_type": "code",
   "execution_count": 142,
   "metadata": {
    "colab": {
     "base_uri": "https://localhost:8080/"
    },
    "executionInfo": {
     "elapsed": 679,
     "status": "ok",
     "timestamp": 1674338487237,
     "user": {
      "displayName": "Chennaveer Jogur",
      "userId": "08412919184894538156"
     },
     "user_tz": -330
    },
    "id": "o0J_uSLcQxEm",
    "outputId": "1e70699d-4424-4352-9c8c-f7d846aed6cf"
   },
   "outputs": [
    {
     "data": {
      "text/plain": [
       "6"
      ]
     },
     "execution_count": 142,
     "metadata": {},
     "output_type": "execute_result"
    }
   ],
   "source": [
    "a,b,c = (5,6,7)\n",
    "b"
   ]
  },
  {
   "cell_type": "code",
   "execution_count": 82,
   "metadata": {},
   "outputs": [
    {
     "data": {
      "text/plain": [
       "7"
      ]
     },
     "execution_count": 82,
     "metadata": {},
     "output_type": "execute_result"
    }
   ],
   "source": [
    "c"
   ]
  },
  {
   "cell_type": "code",
   "execution_count": 143,
   "metadata": {
    "colab": {
     "base_uri": "https://localhost:8080/"
    },
    "executionInfo": {
     "elapsed": 500,
     "status": "ok",
     "timestamp": 1674338491769,
     "user": {
      "displayName": "Chennaveer Jogur",
      "userId": "08412919184894538156"
     },
     "user_tz": -330
    },
    "id": "DGIMieGhQxEm",
    "outputId": "dcfcd3e4-579e-40e6-ddaa-0bb3b864da19"
   },
   "outputs": [
    {
     "data": {
      "text/plain": [
       "'a'"
      ]
     },
     "execution_count": 143,
     "metadata": {},
     "output_type": "execute_result"
    }
   ],
   "source": [
    "x,y,z = 'abc'\n",
    "x"
   ]
  },
  {
   "cell_type": "code",
   "execution_count": 84,
   "metadata": {},
   "outputs": [
    {
     "data": {
      "text/plain": [
       "'b'"
      ]
     },
     "execution_count": 84,
     "metadata": {},
     "output_type": "execute_result"
    }
   ],
   "source": [
    "y"
   ]
  },
  {
   "cell_type": "code",
   "execution_count": 85,
   "metadata": {},
   "outputs": [
    {
     "data": {
      "text/plain": [
       "'c'"
      ]
     },
     "execution_count": 85,
     "metadata": {},
     "output_type": "execute_result"
    }
   ],
   "source": [
    "z"
   ]
  },
  {
   "cell_type": "code",
   "execution_count": null,
   "metadata": {},
   "outputs": [],
   "source": []
  }
 ],
 "metadata": {
  "colab": {
   "collapsed_sections": [
    "ssxcAskFQxEd",
    "n833VbCQQxEe",
    "wW9iIbWRQxEf",
    "W7b7GjPfQxEg",
    "_zMExwTGQxEh",
    "8Wk9-tmaQxEl",
    "oqrqE1EtQxEm",
    "iPah1iREQxEn",
    "UslnOtuAQxEp"
   ],
   "provenance": []
  },
  "kernelspec": {
   "display_name": "Python 3 (ipykernel)",
   "language": "python",
   "name": "python3"
  },
  "language_info": {
   "codemirror_mode": {
    "name": "ipython",
    "version": 3
   },
   "file_extension": ".py",
   "mimetype": "text/x-python",
   "name": "python",
   "nbconvert_exporter": "python",
   "pygments_lexer": "ipython3",
   "version": "3.11.3"
  }
 },
 "nbformat": 4,
 "nbformat_minor": 1
}
