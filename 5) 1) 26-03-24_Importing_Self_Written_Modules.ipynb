{
 "cells": [
  {
   "cell_type": "code",
   "execution_count": 1,
   "id": "21995624-d524-4b31-a630-4a1408829263",
   "metadata": {},
   "outputs": [],
   "source": [
    "# Calcy.py file and this file must be in the same folder \n",
    "\n",
    "import Calcy"
   ]
  },
  {
   "cell_type": "code",
   "execution_count": 2,
   "id": "3b805299-9862-4821-bdcc-695e33df1253",
   "metadata": {},
   "outputs": [
    {
     "data": {
      "text/plain": [
       "5"
      ]
     },
     "execution_count": 2,
     "metadata": {},
     "output_type": "execute_result"
    }
   ],
   "source": [
    "Calcy.add(2,3)"
   ]
  },
  {
   "cell_type": "code",
   "execution_count": 3,
   "id": "d09f7a00-381a-4c07-b16a-0215a3bbfabc",
   "metadata": {},
   "outputs": [
    {
     "data": {
      "text/plain": [
       "-1"
      ]
     },
     "execution_count": 3,
     "metadata": {},
     "output_type": "execute_result"
    }
   ],
   "source": [
    "Calcy.subtract(83,84)"
   ]
  },
  {
   "cell_type": "code",
   "execution_count": 4,
   "id": "e227b52b-9e05-4550-af79-98adf505f85d",
   "metadata": {},
   "outputs": [
    {
     "data": {
      "text/plain": [
       "32"
      ]
     },
     "execution_count": 4,
     "metadata": {},
     "output_type": "execute_result"
    }
   ],
   "source": [
    "Calcy.exp(2,5)"
   ]
  },
  {
   "cell_type": "code",
   "execution_count": 5,
   "id": "ec21f1e6-4446-4be3-91e0-9eee5481b083",
   "metadata": {},
   "outputs": [
    {
     "data": {
      "text/plain": [
       "416"
      ]
     },
     "execution_count": 5,
     "metadata": {},
     "output_type": "execute_result"
    }
   ],
   "source": [
    "Calcy.multiply(104,4)"
   ]
  },
  {
   "cell_type": "code",
   "execution_count": null,
   "id": "895ab758-a2f9-41f1-8337-2b66c7055b61",
   "metadata": {},
   "outputs": [],
   "source": []
  }
 ],
 "metadata": {
  "kernelspec": {
   "display_name": "Python 3 (ipykernel)",
   "language": "python",
   "name": "python3"
  },
  "language_info": {
   "codemirror_mode": {
    "name": "ipython",
    "version": 3
   },
   "file_extension": ".py",
   "mimetype": "text/x-python",
   "name": "python",
   "nbconvert_exporter": "python",
   "pygments_lexer": "ipython3",
   "version": "3.11.7"
  }
 },
 "nbformat": 4,
 "nbformat_minor": 5
}
