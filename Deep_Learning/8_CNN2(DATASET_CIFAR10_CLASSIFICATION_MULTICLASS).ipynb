{
  "nbformat": 4,
  "nbformat_minor": 0,
  "metadata": {
    "colab": {
      "provenance": []
    },
    "kernelspec": {
      "name": "python3",
      "display_name": "Python 3"
    },
    "language_info": {
      "name": "python"
    }
  },
  "cells": [
    {
      "cell_type": "code",
      "execution_count": 91,
      "metadata": {
        "id": "-_RGaGr9wUSs"
      },
      "outputs": [],
      "source": [
        "from keras.datasets import cifar10"
      ]
    },
    {
      "cell_type": "code",
      "source": [
        "# CIFAR DATASET CONTAINS 60000 IMAGES OF 10 DIFFERENT CATEGORIES\n",
        "\n",
        "# 0 - AEROPLANE\n",
        "# 1 - AUTOMOBILE\n",
        "# 2 - BIRD\n",
        "# 3 - CAT\n",
        "# 4 - DEER\n",
        "# 5 - DOG\n",
        "# 6 - FROG\n",
        "# 7 - HORSE\n",
        "# 8 - SHIP\n",
        "# 9 - TRUCK\n",
        "\n",
        "# ALL THESE IMAGES WILL HAVE SIZE 32 * 32\n",
        "\n",
        "# 50,000 IMAGES ARE FOR TRAINING DATA\n",
        "# 10,000 IMAGES ARE FOR TESTING DATA"
      ],
      "metadata": {
        "id": "m3A4lXerwhWg"
      },
      "execution_count": 92,
      "outputs": []
    },
    {
      "cell_type": "code",
      "source": [
        "(X_train,Y_train) , (X_test,Y_test) = cifar10.load_data()"
      ],
      "metadata": {
        "id": "lGCYkSO-xTL7"
      },
      "execution_count": 93,
      "outputs": []
    },
    {
      "cell_type": "code",
      "source": [
        "# TRAINING SAMPLES OF 50,000 IMAGES WITH 32 * 32 IMAGE SIZE WITH 3 DIMENSIONAL DATA\n",
        "print(\"X_train Shape:\",X_train.shape)\n",
        "\n",
        "# TEST SAMPLES OF 50,000 IMAGES WITH 32 * 32 IMAGE SIZE WITH 3 DIMENSIONAL DATA\n",
        "print(\"X_test Shape:\",X_test.shape)\n",
        "\n",
        "# AS IT IS ALREADY LABEL ENCODED --> (0 MEANS AEROPLANE, 1 MEANS AUTOMOBILE, ... 9 MEANS TRUCK)\n",
        "print(\"Y_train Shape:\",Y_train.shape)\n",
        "\n",
        "print(\"Y_test Shape:\",Y_test.shape)"
      ],
      "metadata": {
        "colab": {
          "base_uri": "https://localhost:8080/"
        },
        "id": "VsNzxoq3xlk7",
        "outputId": "4232671f-0b5e-4e72-ba1b-8edcb2e49902"
      },
      "execution_count": 94,
      "outputs": [
        {
          "output_type": "stream",
          "name": "stdout",
          "text": [
            "X_train Shape: (50000, 32, 32, 3)\n",
            "X_test Shape: (10000, 32, 32, 3)\n",
            "Y_train Shape: (50000, 1)\n",
            "Y_test Shape: (10000, 1)\n"
          ]
        }
      ]
    },
    {
      "cell_type": "code",
      "source": [
        "Y_train"
      ],
      "metadata": {
        "colab": {
          "base_uri": "https://localhost:8080/"
        },
        "id": "Ej0KjMRMzccD",
        "outputId": "25ec64ee-6a0e-49ac-cd7b-0cb55190610d"
      },
      "execution_count": 95,
      "outputs": [
        {
          "output_type": "execute_result",
          "data": {
            "text/plain": [
              "array([[6],\n",
              "       [9],\n",
              "       [9],\n",
              "       ...,\n",
              "       [9],\n",
              "       [1],\n",
              "       [1]], dtype=uint8)"
            ]
          },
          "metadata": {},
          "execution_count": 95
        }
      ]
    },
    {
      "cell_type": "code",
      "source": [
        "import pandas as pd\n",
        "pd.DataFrame(Y_train).value_counts()"
      ],
      "metadata": {
        "colab": {
          "base_uri": "https://localhost:8080/",
          "height": 429
        },
        "id": "W_82G6TS0u7F",
        "outputId": "26489453-a163-47c6-ad9c-7218a2f22d5c"
      },
      "execution_count": 96,
      "outputs": [
        {
          "output_type": "execute_result",
          "data": {
            "text/plain": [
              "0    5000\n",
              "1    5000\n",
              "2    5000\n",
              "3    5000\n",
              "4    5000\n",
              "5    5000\n",
              "6    5000\n",
              "7    5000\n",
              "8    5000\n",
              "9    5000\n",
              "Name: count, dtype: int64"
            ],
            "text/html": [
              "<div>\n",
              "<style scoped>\n",
              "    .dataframe tbody tr th:only-of-type {\n",
              "        vertical-align: middle;\n",
              "    }\n",
              "\n",
              "    .dataframe tbody tr th {\n",
              "        vertical-align: top;\n",
              "    }\n",
              "\n",
              "    .dataframe thead th {\n",
              "        text-align: right;\n",
              "    }\n",
              "</style>\n",
              "<table border=\"1\" class=\"dataframe\">\n",
              "  <thead>\n",
              "    <tr style=\"text-align: right;\">\n",
              "      <th></th>\n",
              "      <th>count</th>\n",
              "    </tr>\n",
              "    <tr>\n",
              "      <th>0</th>\n",
              "      <th></th>\n",
              "    </tr>\n",
              "  </thead>\n",
              "  <tbody>\n",
              "    <tr>\n",
              "      <th>0</th>\n",
              "      <td>5000</td>\n",
              "    </tr>\n",
              "    <tr>\n",
              "      <th>1</th>\n",
              "      <td>5000</td>\n",
              "    </tr>\n",
              "    <tr>\n",
              "      <th>2</th>\n",
              "      <td>5000</td>\n",
              "    </tr>\n",
              "    <tr>\n",
              "      <th>3</th>\n",
              "      <td>5000</td>\n",
              "    </tr>\n",
              "    <tr>\n",
              "      <th>4</th>\n",
              "      <td>5000</td>\n",
              "    </tr>\n",
              "    <tr>\n",
              "      <th>5</th>\n",
              "      <td>5000</td>\n",
              "    </tr>\n",
              "    <tr>\n",
              "      <th>6</th>\n",
              "      <td>5000</td>\n",
              "    </tr>\n",
              "    <tr>\n",
              "      <th>7</th>\n",
              "      <td>5000</td>\n",
              "    </tr>\n",
              "    <tr>\n",
              "      <th>8</th>\n",
              "      <td>5000</td>\n",
              "    </tr>\n",
              "    <tr>\n",
              "      <th>9</th>\n",
              "      <td>5000</td>\n",
              "    </tr>\n",
              "  </tbody>\n",
              "</table>\n",
              "</div><br><label><b>dtype:</b> int64</label>"
            ]
          },
          "metadata": {},
          "execution_count": 96
        }
      ]
    },
    {
      "cell_type": "code",
      "source": [
        "X_train[3000]"
      ],
      "metadata": {
        "colab": {
          "base_uri": "https://localhost:8080/",
          "height": 72
        },
        "id": "1qd9Rno10_wV",
        "outputId": "c85a4832-e0b0-473a-c930-22504d6364ea"
      },
      "execution_count": 97,
      "outputs": [
        {
          "output_type": "execute_result",
          "data": {
            "text/plain": [
              "array([[[254, 254, 254],\n",
              "        [255, 255, 255],\n",
              "        [255, 255, 255],\n",
              "        ...,\n",
              "        [255, 255, 255],\n",
              "        [255, 255, 255],\n",
              "        [255, 255, 255]],\n",
              "\n",
              "       [[251, 251, 251],\n",
              "        [253, 253, 253],\n",
              "        [254, 254, 254],\n",
              "        ...,\n",
              "        [251, 251, 251],\n",
              "        [251, 251, 251],\n",
              "        [250, 250, 250]],\n",
              "\n",
              "       [[251, 251, 251],\n",
              "        [253, 253, 253],\n",
              "        [253, 253, 253],\n",
              "        ...,\n",
              "        [251, 251, 251],\n",
              "        [252, 252, 252],\n",
              "        [251, 251, 251]],\n",
              "\n",
              "       ...,\n",
              "\n",
              "       [[149, 149, 149],\n",
              "        [ 62,  62,  62],\n",
              "        [ 65,  65,  65],\n",
              "        ...,\n",
              "        [207, 200, 190],\n",
              "        [202, 192, 182],\n",
              "        [214, 207, 200]],\n",
              "\n",
              "       [[159, 159, 159],\n",
              "        [ 71,  71,  71],\n",
              "        [ 72,  72,  72],\n",
              "        ...,\n",
              "        [199, 180, 158],\n",
              "        [202, 191, 180],\n",
              "        [212, 207, 203]],\n",
              "\n",
              "       [[224, 224, 224],\n",
              "        [194, 194, 194],\n",
              "        [182, 182, 182],\n",
              "        ...,\n",
              "        [214, 201, 185],\n",
              "        [215, 208, 200],\n",
              "        [217, 215, 213]]], dtype=uint8)"
            ],
            "text/html": [
              "<style>\n",
              "      .ndarray_repr .ndarray_raw_data {\n",
              "        display: none;\n",
              "      }\n",
              "      .ndarray_repr.show_array .ndarray_raw_data {\n",
              "        display: block;\n",
              "      }\n",
              "      .ndarray_repr.show_array .ndarray_image_preview {\n",
              "        display: none;\n",
              "      }\n",
              "      </style>\n",
              "      <div id=\"id-9bdc1fb7-6ea0-442c-9916-68dfd17da6a4\" class=\"ndarray_repr\"><pre>ndarray (32, 32, 3) <button style=\"padding: 0 2px;\">show data</button></pre><img src=\"data:image/png;base64,iVBORw0KGgoAAAANSUhEUgAAACAAAAAgCAIAAAD8GO2jAAAH+ElEQVR4nHVWS28cxxGuqq7ueezs7INvyhIpyq8Yhq0kSBDAiKS7z77Z/meCA+Tii323DVuGDkacHAxZCgQjsiXTXIoUueQ+Z3amH5XDSGsmSBoYoNHTXV3fV191FYYQEBH+1yjL8u7du19//fV4PAaAEAIAEBEiMvP169fffffdtbW1/3e8Gey9b86ICAA0kxCCUur+/fu3b99+6623bty4MZlMvPfNX0QcDoeffPLJycnJhx9+2O/3tdYA0FhoJs1cRHi5dPHaZkdd13Vdr62tvfnmm8wcRdHygv39/a+++urg4ODo6IiZO50OETWnlnsaZOy9X64uL2hgKaUQcTQaTSaTXq+XJEljpUFsrTXGOOfm83mWZUsvL1oTEdZaE9F/E8eMiFmWEZG1VilljImiiIhCCETknKvrmpmNMc2viyQv7Tjn+M6dO/P5vHHtIj9KqYODQVVVjx8//uKLL7Isa7VaS/iPHz+u6/rw8PDzzz/P87zdbmutFRESKaWYmZnjON7Z2cEPPvjg0aNHDRuNVC5GmwgBnoe9Md040bB0cT8R+SAiQopYKWM0Ib333nvcsEFEz0XCIIAghEAUCAUFPKJXSjWCRkRAFAQUwRAIEZC8IhF7ychOL5kF98toYS2jxul0ysy8DB0AYNCEiMFJqFGp8HwRLgoDQLD5lBJAQYRgd1twa7u7ztXACgTz8wiItdaa0zRdYkdEtGU/5a1euijcybSY+Cggw3+KGENABIfkCFCc8v5KSrfWo73EoZfMU0/rowg9AWvNSZIsmUWiQMBsr62oy3tr47l9sD/6cWzHngF+RYBAIhAUKQwdqXZT+MN272obTKKcxPHCdhAzVReMuuGniaeIkGI2/VlZPBsWe31+Yyd5+Yp5eGT/8VN5Oq4LJ4IAACgQGVYKcsbdqPVGCy9z0IpLrYvC+4XNKAFfOccAwEvlee+9s0RQBfevc5efI7bMSz16e3vaBXh0zPvntgzeOdvP21ms56PxVrvdI/C2Hi0kYpm6+Ww044WxoBYQkJmImJmX6QcAIThEnCz8o8FZPyXtwIQyT/3VbVxb6/1yOFrU1W+uRbHxRZGPzt3pxBY6Pi1tV/kojZyvS6Ghdd41clX8QqAg8iLLgSwlh+fl4bDsIqcatq5u5G7+8OFpHKTbia6sh7Yudbz19++eHU4n00gQ5Lgs1tM0wfjMuWeVszWYAADAS99FQiMkDySAHpQPWCxcqv1qF23lZm274ltZrrdbvtPvDk5CUTmTJCDBOVmgGZeoEj0XN7cWkTUqCYGfq/NFJAAEEEl8rl3OVkh/P5j+MHGvb6/k8fralvO2DDZ7sO++eXB+OLHra2lfROZquKCnw/GkqFt5vtpWuqoDBI2KoyhqXh4RQQRBJxgQQItkHCeoz2f5L4O6tSj+vGNMfRanfFbQ/ftnkUl31plCFUGkIBhyrW77uIByFpLY5FqmIt57xhfjRSnwIhJE1UKD43GZJpupeinBXnU+f8oBoNawf3LSsUmW62fnk6KgafAmVCuRZK2WF/+sXDif1ZZqCADwPA+aN0sCICABB9ALxMOpHZf+Wkq7MYwLeDCR4dmw148ub3Ve40LxLGvxOaTOsFJ+VUfBW6Yib5mfxsWZTThSRMiNdaUUAAKCACoBBWTJVAltxn6zTbub+bCGH34e9ncuvf56r8tldXjKgVpr0aW9WLeMLfnp/nh6PuvlnTRpPVtMn84rAy2lFTe+NzEQCQKgABSIEBUueGW6q3plmzr5S/se+ytb26/2wuhHY0ueWZWa0E9Dt1UUi76Ql+T4qDqtzjyaTGPkwXjmZW0TEQAEJAIiREGqQB+XeFBFvVpLVURdHpfHPw3O0njWv9SGhVgyIc980oKgEOcKUTOvaK188GXZVllOjpelY/neEZBCdAhVUCdz/+UPxT+fwdvXiutX+9urHStFGYzSGQWyLngnMhjbg2F1Nkk9Xdvkws3zmb8U99rr3bWO54stBSIiUIBgxUEgArACpxUMB2VRjl3lXtmuepn2xAtyAkGhj2zA8zlZl7eUiqNgDFO22dvmdFV6a+nG5nMEv5ZskQCAGEiAENzznoOfDPVw7P4WHW2uqN0Vc6XDaScy/cz0urS6Uc5dVUqcdOJ2LzaZp9ghUhp53WZjDBERUafTUUoRUVmWRVGIiA8eAYSsDZZ8u6z1uFZVZl57+frm3iWlxIEsiANFmMdKsA5ikUUIArFSRhjlRb1k5nfeeefWrVtnZ2d37twpyzJJksFgcOPmzfPR+Xf3vtu9vHN2cvrkx0f1ItnY+9PmH38vdXm0/8Qg6aRVFIuYlUL0zgJCEsfFfIYiimJe9jnffvvtzZs37927NxqN3n//fWPMYDDo9/tFWf3ut3/Y27n88MH9v97+Sygk1z1VClG0urKZ9/JWNx9Pp+LIkPbOlmXZ7fdPTo/Hz44APTcNi4iUZfnpp58+ffr09PT0s88+a7VaDx8+7HQ6nbxbTIvtjY2Dn5/URdnJWt/c/fLB9/l4Mq7sYuvytjasjdm7+urWxpZblPPZpJhNyqpw3juw+NFHH3388cdNPjvnljkhIiGIIkKvWDQrkVApCpGm1HDKytnKe6e1QgJS3MpWsiRVYtfWe7uvXOmtr6rWetrdwCdPnuzv789ms9ls1jTovzaXAgJCQkoIIPjgATygoPexwlhrJmQClGC9q7yHIAokinS7myWdHKMORe1/A6/24/mscOQPAAAAAElFTkSuQmCC\" class=\"ndarray_image_preview\" /><pre class=\"ndarray_raw_data\">array([[[254, 254, 254],\n",
              "        [255, 255, 255],\n",
              "        [255, 255, 255],\n",
              "        ...,\n",
              "        [255, 255, 255],\n",
              "        [255, 255, 255],\n",
              "        [255, 255, 255]],\n",
              "\n",
              "       [[251, 251, 251],\n",
              "        [253, 253, 253],\n",
              "        [254, 254, 254],\n",
              "        ...,\n",
              "        [251, 251, 251],\n",
              "        [251, 251, 251],\n",
              "        [250, 250, 250]],\n",
              "\n",
              "       [[251, 251, 251],\n",
              "        [253, 253, 253],\n",
              "        [253, 253, 253],\n",
              "        ...,\n",
              "        [251, 251, 251],\n",
              "        [252, 252, 252],\n",
              "        [251, 251, 251]],\n",
              "\n",
              "       ...,\n",
              "\n",
              "       [[149, 149, 149],\n",
              "        [ 62,  62,  62],\n",
              "        [ 65,  65,  65],\n",
              "        ...,\n",
              "        [207, 200, 190],\n",
              "        [202, 192, 182],\n",
              "        [214, 207, 200]],\n",
              "\n",
              "       [[159, 159, 159],\n",
              "        [ 71,  71,  71],\n",
              "        [ 72,  72,  72],\n",
              "        ...,\n",
              "        [199, 180, 158],\n",
              "        [202, 191, 180],\n",
              "        [212, 207, 203]],\n",
              "\n",
              "       [[224, 224, 224],\n",
              "        [194, 194, 194],\n",
              "        [182, 182, 182],\n",
              "        ...,\n",
              "        [214, 201, 185],\n",
              "        [215, 208, 200],\n",
              "        [217, 215, 213]]], dtype=uint8)</pre></div><script>\n",
              "      (() => {\n",
              "      const titles = ['show data', 'hide data'];\n",
              "      let index = 0\n",
              "      document.querySelector('#id-9bdc1fb7-6ea0-442c-9916-68dfd17da6a4 button').onclick = (e) => {\n",
              "        document.querySelector('#id-9bdc1fb7-6ea0-442c-9916-68dfd17da6a4').classList.toggle('show_array');\n",
              "        index = (++index) % 2;\n",
              "        document.querySelector('#id-9bdc1fb7-6ea0-442c-9916-68dfd17da6a4 button').textContent = titles[index];\n",
              "        e.preventDefault();\n",
              "        e.stopPropagation();\n",
              "      }\n",
              "      })();\n",
              "    </script>"
            ]
          },
          "metadata": {},
          "execution_count": 97
        }
      ]
    },
    {
      "cell_type": "code",
      "source": [
        "import matplotlib.pyplot as plt\n",
        "plt.imshow(X_train[3000])"
      ],
      "metadata": {
        "colab": {
          "base_uri": "https://localhost:8080/",
          "height": 447
        },
        "id": "JvbmaTFg2QlT",
        "outputId": "b526e4bc-fe9a-4c67-9e97-03d5937b40d2"
      },
      "execution_count": 98,
      "outputs": [
        {
          "output_type": "execute_result",
          "data": {
            "text/plain": [
              "<matplotlib.image.AxesImage at 0x7ed258d3fe20>"
            ]
          },
          "metadata": {},
          "execution_count": 98
        },
        {
          "output_type": "display_data",
          "data": {
            "text/plain": [
              "<Figure size 640x480 with 1 Axes>"
            ],
            "image/png": "[encoded data removed]"
          },
          "metadata": {}
        }
      ]
    },
    {
      "cell_type": "code",
      "source": [
        "# EVERY CELL UNDER THE IMAGE CONTAINS 0-255 AS THE RANGE\n",
        "\n",
        "\"\"\"\n",
        "      SCALE 0-1 ---> Max_Value(255)\n",
        "25    0.09804\n",
        "12    0.04706\n",
        "250   0.98039\n",
        "255   1\n",
        "0     0\n",
        "\"\"\"\n",
        "\n",
        "# Doing some kind of Standardization/ Min-Max Scaler\n",
        "\n",
        "X_train1 = X_train/255\n",
        "X_test1 = X_test/255"
      ],
      "metadata": {
        "id": "08vJ3GVY2lXd"
      },
      "execution_count": 99,
      "outputs": []
    },
    {
      "cell_type": "code",
      "source": [
        "X_train1"
      ],
      "metadata": {
        "colab": {
          "base_uri": "https://localhost:8080/"
        },
        "id": "gFA7om9B4Tk0",
        "outputId": "f2f0f90a-469e-4370-b954-45381187f1a6"
      },
      "execution_count": 100,
      "outputs": [
        {
          "output_type": "execute_result",
          "data": {
            "text/plain": [
              "array([[[[0.23137255, 0.24313725, 0.24705882],\n",
              "         [0.16862745, 0.18039216, 0.17647059],\n",
              "         [0.19607843, 0.18823529, 0.16862745],\n",
              "         ...,\n",
              "         [0.61960784, 0.51764706, 0.42352941],\n",
              "         [0.59607843, 0.49019608, 0.4       ],\n",
              "         [0.58039216, 0.48627451, 0.40392157]],\n",
              "\n",
              "        [[0.0627451 , 0.07843137, 0.07843137],\n",
              "         [0.        , 0.        , 0.        ],\n",
              "         [0.07058824, 0.03137255, 0.        ],\n",
              "         ...,\n",
              "         [0.48235294, 0.34509804, 0.21568627],\n",
              "         [0.46666667, 0.3254902 , 0.19607843],\n",
              "         [0.47843137, 0.34117647, 0.22352941]],\n",
              "\n",
              "        [[0.09803922, 0.09411765, 0.08235294],\n",
              "         [0.0627451 , 0.02745098, 0.        ],\n",
              "         [0.19215686, 0.10588235, 0.03137255],\n",
              "         ...,\n",
              "         [0.4627451 , 0.32941176, 0.19607843],\n",
              "         [0.47058824, 0.32941176, 0.19607843],\n",
              "         [0.42745098, 0.28627451, 0.16470588]],\n",
              "\n",
              "        ...,\n",
              "\n",
              "        [[0.81568627, 0.66666667, 0.37647059],\n",
              "         [0.78823529, 0.6       , 0.13333333],\n",
              "         [0.77647059, 0.63137255, 0.10196078],\n",
              "         ...,\n",
              "         [0.62745098, 0.52156863, 0.2745098 ],\n",
              "         [0.21960784, 0.12156863, 0.02745098],\n",
              "         [0.20784314, 0.13333333, 0.07843137]],\n",
              "\n",
              "        [[0.70588235, 0.54509804, 0.37647059],\n",
              "         [0.67843137, 0.48235294, 0.16470588],\n",
              "         [0.72941176, 0.56470588, 0.11764706],\n",
              "         ...,\n",
              "         [0.72156863, 0.58039216, 0.36862745],\n",
              "         [0.38039216, 0.24313725, 0.13333333],\n",
              "         [0.3254902 , 0.20784314, 0.13333333]],\n",
              "\n",
              "        [[0.69411765, 0.56470588, 0.45490196],\n",
              "         [0.65882353, 0.50588235, 0.36862745],\n",
              "         [0.70196078, 0.55686275, 0.34117647],\n",
              "         ...,\n",
              "         [0.84705882, 0.72156863, 0.54901961],\n",
              "         [0.59215686, 0.4627451 , 0.32941176],\n",
              "         [0.48235294, 0.36078431, 0.28235294]]],\n",
              "\n",
              "\n",
              "       [[[0.60392157, 0.69411765, 0.73333333],\n",
              "         [0.49411765, 0.5372549 , 0.53333333],\n",
              "         [0.41176471, 0.40784314, 0.37254902],\n",
              "         ...,\n",
              "         [0.35686275, 0.37254902, 0.27843137],\n",
              "         [0.34117647, 0.35294118, 0.27843137],\n",
              "         [0.30980392, 0.31764706, 0.2745098 ]],\n",
              "\n",
              "        [[0.54901961, 0.62745098, 0.6627451 ],\n",
              "         [0.56862745, 0.6       , 0.60392157],\n",
              "         [0.49019608, 0.49019608, 0.4627451 ],\n",
              "         ...,\n",
              "         [0.37647059, 0.38823529, 0.30588235],\n",
              "         [0.30196078, 0.31372549, 0.24313725],\n",
              "         [0.27843137, 0.28627451, 0.23921569]],\n",
              "\n",
              "        [[0.54901961, 0.60784314, 0.64313725],\n",
              "         [0.54509804, 0.57254902, 0.58431373],\n",
              "         [0.45098039, 0.45098039, 0.43921569],\n",
              "         ...,\n",
              "         [0.30980392, 0.32156863, 0.25098039],\n",
              "         [0.26666667, 0.2745098 , 0.21568627],\n",
              "         [0.2627451 , 0.27058824, 0.21568627]],\n",
              "\n",
              "        ...,\n",
              "\n",
              "        [[0.68627451, 0.65490196, 0.65098039],\n",
              "         [0.61176471, 0.60392157, 0.62745098],\n",
              "         [0.60392157, 0.62745098, 0.66666667],\n",
              "         ...,\n",
              "         [0.16470588, 0.13333333, 0.14117647],\n",
              "         [0.23921569, 0.20784314, 0.22352941],\n",
              "         [0.36470588, 0.3254902 , 0.35686275]],\n",
              "\n",
              "        [[0.64705882, 0.60392157, 0.50196078],\n",
              "         [0.61176471, 0.59607843, 0.50980392],\n",
              "         [0.62352941, 0.63137255, 0.55686275],\n",
              "         ...,\n",
              "         [0.40392157, 0.36470588, 0.37647059],\n",
              "         [0.48235294, 0.44705882, 0.47058824],\n",
              "         [0.51372549, 0.4745098 , 0.51372549]],\n",
              "\n",
              "        [[0.63921569, 0.58039216, 0.47058824],\n",
              "         [0.61960784, 0.58039216, 0.47843137],\n",
              "         [0.63921569, 0.61176471, 0.52156863],\n",
              "         ...,\n",
              "         [0.56078431, 0.52156863, 0.54509804],\n",
              "         [0.56078431, 0.5254902 , 0.55686275],\n",
              "         [0.56078431, 0.52156863, 0.56470588]]],\n",
              "\n",
              "\n",
              "       [[[1.        , 1.        , 1.        ],\n",
              "         [0.99215686, 0.99215686, 0.99215686],\n",
              "         [0.99215686, 0.99215686, 0.99215686],\n",
              "         ...,\n",
              "         [0.99215686, 0.99215686, 0.99215686],\n",
              "         [0.99215686, 0.99215686, 0.99215686],\n",
              "         [0.99215686, 0.99215686, 0.99215686]],\n",
              "\n",
              "        [[1.        , 1.        , 1.        ],\n",
              "         [1.        , 1.        , 1.        ],\n",
              "         [1.        , 1.        , 1.        ],\n",
              "         ...,\n",
              "         [1.        , 1.        , 1.        ],\n",
              "         [1.        , 1.        , 1.        ],\n",
              "         [1.        , 1.        , 1.        ]],\n",
              "\n",
              "        [[1.        , 1.        , 1.        ],\n",
              "         [0.99607843, 0.99607843, 0.99607843],\n",
              "         [0.99607843, 0.99607843, 0.99607843],\n",
              "         ...,\n",
              "         [0.99607843, 0.99607843, 0.99607843],\n",
              "         [0.99607843, 0.99607843, 0.99607843],\n",
              "         [0.99607843, 0.99607843, 0.99607843]],\n",
              "\n",
              "        ...,\n",
              "\n",
              "        [[0.44313725, 0.47058824, 0.43921569],\n",
              "         [0.43529412, 0.4627451 , 0.43529412],\n",
              "         [0.41176471, 0.43921569, 0.41568627],\n",
              "         ...,\n",
              "         [0.28235294, 0.31764706, 0.31372549],\n",
              "         [0.28235294, 0.31372549, 0.30980392],\n",
              "         [0.28235294, 0.31372549, 0.30980392]],\n",
              "\n",
              "        [[0.43529412, 0.4627451 , 0.43137255],\n",
              "         [0.40784314, 0.43529412, 0.40784314],\n",
              "         [0.38823529, 0.41568627, 0.38431373],\n",
              "         ...,\n",
              "         [0.26666667, 0.29411765, 0.28627451],\n",
              "         [0.2745098 , 0.29803922, 0.29411765],\n",
              "         [0.30588235, 0.32941176, 0.32156863]],\n",
              "\n",
              "        [[0.41568627, 0.44313725, 0.41176471],\n",
              "         [0.38823529, 0.41568627, 0.38431373],\n",
              "         [0.37254902, 0.4       , 0.36862745],\n",
              "         ...,\n",
              "         [0.30588235, 0.33333333, 0.3254902 ],\n",
              "         [0.30980392, 0.33333333, 0.3254902 ],\n",
              "         [0.31372549, 0.3372549 , 0.32941176]]],\n",
              "\n",
              "\n",
              "       ...,\n",
              "\n",
              "\n",
              "       [[[0.1372549 , 0.69803922, 0.92156863],\n",
              "         [0.15686275, 0.69019608, 0.9372549 ],\n",
              "         [0.16470588, 0.69019608, 0.94509804],\n",
              "         ...,\n",
              "         [0.38823529, 0.69411765, 0.85882353],\n",
              "         [0.30980392, 0.57647059, 0.77254902],\n",
              "         [0.34901961, 0.58039216, 0.74117647]],\n",
              "\n",
              "        [[0.22352941, 0.71372549, 0.91764706],\n",
              "         [0.17254902, 0.72156863, 0.98039216],\n",
              "         [0.19607843, 0.71764706, 0.94117647],\n",
              "         ...,\n",
              "         [0.61176471, 0.71372549, 0.78431373],\n",
              "         [0.55294118, 0.69411765, 0.80784314],\n",
              "         [0.45490196, 0.58431373, 0.68627451]],\n",
              "\n",
              "        [[0.38431373, 0.77254902, 0.92941176],\n",
              "         [0.25098039, 0.74117647, 0.98823529],\n",
              "         [0.27058824, 0.75294118, 0.96078431],\n",
              "         ...,\n",
              "         [0.7372549 , 0.76470588, 0.80784314],\n",
              "         [0.46666667, 0.52941176, 0.57647059],\n",
              "         [0.23921569, 0.30980392, 0.35294118]],\n",
              "\n",
              "        ...,\n",
              "\n",
              "        [[0.28627451, 0.30980392, 0.30196078],\n",
              "         [0.20784314, 0.24705882, 0.26666667],\n",
              "         [0.21176471, 0.26666667, 0.31372549],\n",
              "         ...,\n",
              "         [0.06666667, 0.15686275, 0.25098039],\n",
              "         [0.08235294, 0.14117647, 0.2       ],\n",
              "         [0.12941176, 0.18823529, 0.19215686]],\n",
              "\n",
              "        [[0.23921569, 0.26666667, 0.29411765],\n",
              "         [0.21568627, 0.2745098 , 0.3372549 ],\n",
              "         [0.22352941, 0.30980392, 0.40392157],\n",
              "         ...,\n",
              "         [0.09411765, 0.18823529, 0.28235294],\n",
              "         [0.06666667, 0.1372549 , 0.20784314],\n",
              "         [0.02745098, 0.09019608, 0.1254902 ]],\n",
              "\n",
              "        [[0.17254902, 0.21960784, 0.28627451],\n",
              "         [0.18039216, 0.25882353, 0.34509804],\n",
              "         [0.19215686, 0.30196078, 0.41176471],\n",
              "         ...,\n",
              "         [0.10588235, 0.20392157, 0.30196078],\n",
              "         [0.08235294, 0.16862745, 0.25882353],\n",
              "         [0.04705882, 0.12156863, 0.19607843]]],\n",
              "\n",
              "\n",
              "       [[[0.74117647, 0.82745098, 0.94117647],\n",
              "         [0.72941176, 0.81568627, 0.9254902 ],\n",
              "         [0.7254902 , 0.81176471, 0.92156863],\n",
              "         ...,\n",
              "         [0.68627451, 0.76470588, 0.87843137],\n",
              "         [0.6745098 , 0.76078431, 0.87058824],\n",
              "         [0.6627451 , 0.76078431, 0.8627451 ]],\n",
              "\n",
              "        [[0.76078431, 0.82352941, 0.9372549 ],\n",
              "         [0.74901961, 0.81176471, 0.9254902 ],\n",
              "         [0.74509804, 0.80784314, 0.92156863],\n",
              "         ...,\n",
              "         [0.67843137, 0.75294118, 0.8627451 ],\n",
              "         [0.67058824, 0.74901961, 0.85490196],\n",
              "         [0.65490196, 0.74509804, 0.84705882]],\n",
              "\n",
              "        [[0.81568627, 0.85882353, 0.95686275],\n",
              "         [0.80392157, 0.84705882, 0.94117647],\n",
              "         [0.8       , 0.84313725, 0.9372549 ],\n",
              "         ...,\n",
              "         [0.68627451, 0.74901961, 0.85098039],\n",
              "         [0.6745098 , 0.74509804, 0.84705882],\n",
              "         [0.6627451 , 0.74901961, 0.84313725]],\n",
              "\n",
              "        ...,\n",
              "\n",
              "        [[0.81176471, 0.78039216, 0.70980392],\n",
              "         [0.79607843, 0.76470588, 0.68627451],\n",
              "         [0.79607843, 0.76862745, 0.67843137],\n",
              "         ...,\n",
              "         [0.52941176, 0.51764706, 0.49803922],\n",
              "         [0.63529412, 0.61960784, 0.58823529],\n",
              "         [0.65882353, 0.63921569, 0.59215686]],\n",
              "\n",
              "        [[0.77647059, 0.74509804, 0.66666667],\n",
              "         [0.74117647, 0.70980392, 0.62352941],\n",
              "         [0.70588235, 0.6745098 , 0.57647059],\n",
              "         ...,\n",
              "         [0.69803922, 0.67058824, 0.62745098],\n",
              "         [0.68627451, 0.6627451 , 0.61176471],\n",
              "         [0.68627451, 0.6627451 , 0.60392157]],\n",
              "\n",
              "        [[0.77647059, 0.74117647, 0.67843137],\n",
              "         [0.74117647, 0.70980392, 0.63529412],\n",
              "         [0.69803922, 0.66666667, 0.58431373],\n",
              "         ...,\n",
              "         [0.76470588, 0.72156863, 0.6627451 ],\n",
              "         [0.76862745, 0.74117647, 0.67058824],\n",
              "         [0.76470588, 0.74509804, 0.67058824]]],\n",
              "\n",
              "\n",
              "       [[[0.89803922, 0.89803922, 0.9372549 ],\n",
              "         [0.9254902 , 0.92941176, 0.96862745],\n",
              "         [0.91764706, 0.9254902 , 0.96862745],\n",
              "         ...,\n",
              "         [0.85098039, 0.85882353, 0.91372549],\n",
              "         [0.86666667, 0.8745098 , 0.91764706],\n",
              "         [0.87058824, 0.8745098 , 0.91372549]],\n",
              "\n",
              "        [[0.87058824, 0.86666667, 0.89803922],\n",
              "         [0.9372549 , 0.9372549 , 0.97647059],\n",
              "         [0.91372549, 0.91764706, 0.96470588],\n",
              "         ...,\n",
              "         [0.8745098 , 0.8745098 , 0.9254902 ],\n",
              "         [0.89019608, 0.89411765, 0.93333333],\n",
              "         [0.82352941, 0.82745098, 0.8627451 ]],\n",
              "\n",
              "        [[0.83529412, 0.80784314, 0.82745098],\n",
              "         [0.91764706, 0.90980392, 0.9372549 ],\n",
              "         [0.90588235, 0.91372549, 0.95686275],\n",
              "         ...,\n",
              "         [0.8627451 , 0.8627451 , 0.90980392],\n",
              "         [0.8627451 , 0.85882353, 0.90980392],\n",
              "         [0.79215686, 0.79607843, 0.84313725]],\n",
              "\n",
              "        ...,\n",
              "\n",
              "        [[0.58823529, 0.56078431, 0.52941176],\n",
              "         [0.54901961, 0.52941176, 0.49803922],\n",
              "         [0.51764706, 0.49803922, 0.47058824],\n",
              "         ...,\n",
              "         [0.87843137, 0.87058824, 0.85490196],\n",
              "         [0.90196078, 0.89411765, 0.88235294],\n",
              "         [0.94509804, 0.94509804, 0.93333333]],\n",
              "\n",
              "        [[0.5372549 , 0.51764706, 0.49411765],\n",
              "         [0.50980392, 0.49803922, 0.47058824],\n",
              "         [0.49019608, 0.4745098 , 0.45098039],\n",
              "         ...,\n",
              "         [0.70980392, 0.70588235, 0.69803922],\n",
              "         [0.79215686, 0.78823529, 0.77647059],\n",
              "         [0.83137255, 0.82745098, 0.81176471]],\n",
              "\n",
              "        [[0.47843137, 0.46666667, 0.44705882],\n",
              "         [0.4627451 , 0.45490196, 0.43137255],\n",
              "         [0.47058824, 0.45490196, 0.43529412],\n",
              "         ...,\n",
              "         [0.70196078, 0.69411765, 0.67843137],\n",
              "         [0.64313725, 0.64313725, 0.63529412],\n",
              "         [0.63921569, 0.63921569, 0.63137255]]]])"
            ]
          },
          "metadata": {},
          "execution_count": 100
        }
      ]
    },
    {
      "cell_type": "code",
      "source": [
        "# DOING ONEHOTENCODING\n",
        "\n",
        "from keras.utils import to_categorical\n",
        "Y_cat_train = to_categorical(Y_train,10)\n",
        "Y_cat_test = to_categorical(Y_test,10)"
      ],
      "metadata": {
        "id": "71OQzNv44d8Q"
      },
      "execution_count": 101,
      "outputs": []
    },
    {
      "cell_type": "code",
      "source": [
        "print(Y_cat_train.shape)\n",
        "print(Y_cat_test.shape)"
      ],
      "metadata": {
        "colab": {
          "base_uri": "https://localhost:8080/"
        },
        "id": "5jf9hYrM6Q-I",
        "outputId": "904c710d-13c8-40a1-e262-67bcf97f81e1"
      },
      "execution_count": 102,
      "outputs": [
        {
          "output_type": "stream",
          "name": "stdout",
          "text": [
            "(50000, 10)\n",
            "(10000, 10)\n"
          ]
        }
      ]
    },
    {
      "cell_type": "code",
      "source": [
        "Y_cat_train"
      ],
      "metadata": {
        "colab": {
          "base_uri": "https://localhost:8080/"
        },
        "id": "LXLaC66O6SdW",
        "outputId": "7402f56d-954a-4d66-aa55-fada37ed605a"
      },
      "execution_count": 103,
      "outputs": [
        {
          "output_type": "execute_result",
          "data": {
            "text/plain": [
              "array([[0., 0., 0., ..., 0., 0., 0.],\n",
              "       [0., 0., 0., ..., 0., 0., 1.],\n",
              "       [0., 0., 0., ..., 0., 0., 1.],\n",
              "       ...,\n",
              "       [0., 0., 0., ..., 0., 0., 1.],\n",
              "       [0., 1., 0., ..., 0., 0., 0.],\n",
              "       [0., 1., 0., ..., 0., 0., 0.]])"
            ]
          },
          "metadata": {},
          "execution_count": 103
        }
      ]
    },
    {
      "cell_type": "code",
      "source": [
        "# MODEL BUILDING\n",
        "\n",
        "from keras.models import Sequential\n",
        "from keras.layers import Dense, Conv2D, MaxPool2D, Flatten"
      ],
      "metadata": {
        "id": "iErlse-I6Ugx"
      },
      "execution_count": 104,
      "outputs": []
    },
    {
      "cell_type": "code",
      "source": [
        "model = Sequential()\n",
        "\n",
        "# STEP 1 ---> ADDING CONVOLUTIONAL LAYER\n",
        "# KERNAL_SIZE IS NOTHING BUT THE SIZE OF FEATURE DETECTOR(randomly, but mostly 50% but here 50% is huge(32/2 = 16) so we are taking small)\n",
        "# WE NEED TO APPLY ACTIVATION FUNCTION ON FEATURE MAP(IT INTRODUCES NON-LINEARITY)\n",
        "model.add(Conv2D(input_shape=(32,32,3), kernel_size=(4,4), filters=32, activation='relu'))\n",
        "\n",
        "# STEP 2 ---> MAX POOLING LAYER\n",
        "# WE CAN SELECT THE SIZE RANDOMLY\n",
        "model.add(MaxPool2D(pool_size=(2,2)))\n",
        "\n",
        "# STEP 3 ---> FLATTENING\n",
        "model.add(Flatten())\n",
        "\n",
        "# INPUT LAYER PART\n",
        "# Pool size = (2,2) with 32 filters ---> 32 Max Pooling layers\n",
        "# 32 * 2 * 2 = 128 columns will be generated for one image\n",
        "model.add(Dense(units=128, activation='relu'))\n",
        "\n",
        "# WE CAN ADD/IGNORE HIDDEN LAYER\n",
        "\n",
        "# OUTPUT LAYER ---> 10 CLASSES AS OUTPUT\n",
        "model.add(Dense(units=10, activation='softmax'))"
      ],
      "metadata": {
        "colab": {
          "base_uri": "https://localhost:8080/"
        },
        "id": "akUfuXG664zo",
        "outputId": "cb9ccf49-19f2-4313-9672-48d72ced0740"
      },
      "execution_count": 105,
      "outputs": [
        {
          "output_type": "stream",
          "name": "stderr",
          "text": [
            "/usr/local/lib/python3.10/dist-packages/keras/src/layers/convolutional/base_conv.py:107: UserWarning: Do not pass an `input_shape`/`input_dim` argument to a layer. When using Sequential models, prefer using an `Input(shape)` object as the first layer in the model instead.\n",
            "  super().__init__(activity_regularizer=activity_regularizer, **kwargs)\n"
          ]
        }
      ]
    },
    {
      "cell_type": "code",
      "source": [
        "# MODEL COMPILATION\n",
        "\n",
        "# HERE OUTPUT IS MULTICLASS AND WE APPLIED ONEHOTENCODING ---> SO, LOSS FUNCTION IS CATEGORICAL_CROSSENTROPY\n",
        "# RMSprop (Root Mean Square Propagation) is an optimization algorithm commonly used in training neural networks. It's designed to address\n",
        "# the challenges of vanishing and exploding gradients, which can hinder the training process.\n",
        "model.compile(loss='categorical_crossentropy', optimizer='rmsprop', metrics=['accuracy'])"
      ],
      "metadata": {
        "id": "71N2vlGw9Zi0"
      },
      "execution_count": 106,
      "outputs": []
    },
    {
      "cell_type": "code",
      "source": [
        " model.summary()"
      ],
      "metadata": {
        "colab": {
          "base_uri": "https://localhost:8080/",
          "height": 289
        },
        "id": "kU3XSfJl-Fd0",
        "outputId": "c0431244-de30-43fc-8e86-69aa2c607cdb"
      },
      "execution_count": 107,
      "outputs": [
        {
          "output_type": "display_data",
          "data": {
            "text/plain": [
              "\u001b[1mModel: \"sequential_4\"\u001b[0m\n"
            ],
            "text/html": [
              "<pre style=\"white-space:pre;overflow-x:auto;line-height:normal;font-family:Menlo,'DejaVu Sans Mono',consolas,'Courier New',monospace\"><span style=\"font-weight: bold\">Model: \"sequential_4\"</span>\n",
              "</pre>\n"
            ]
          },
          "metadata": {}
        },
        {
          "output_type": "display_data",
          "data": {
            "text/plain": [
              "┏━━━━━━━━━━━━━━━━━━━━━━━━━━━━━━━━━━━━━━┳━━━━━━━━━━━━━━━━━━━━━━━━━━━━━┳━━━━━━━━━━━━━━━━━┓\n",
              "┃\u001b[1m \u001b[0m\u001b[1mLayer (type)                        \u001b[0m\u001b[1m \u001b[0m┃\u001b[1m \u001b[0m\u001b[1mOutput Shape               \u001b[0m\u001b[1m \u001b[0m┃\u001b[1m \u001b[0m\u001b[1m        Param #\u001b[0m\u001b[1m \u001b[0m┃\n",
              "┡━━━━━━━━━━━━━━━━━━━━━━━━━━━━━━━━━━━━━━╇━━━━━━━━━━━━━━━━━━━━━━━━━━━━━╇━━━━━━━━━━━━━━━━━┩\n",
              "│ conv2d_4 (\u001b[38;5;33mConv2D\u001b[0m)                    │ (\u001b[38;5;45mNone\u001b[0m, \u001b[38;5;34m29\u001b[0m, \u001b[38;5;34m29\u001b[0m, \u001b[38;5;34m32\u001b[0m)          │           \u001b[38;5;34m1,568\u001b[0m │\n",
              "├──────────────────────────────────────┼─────────────────────────────┼─────────────────┤\n",
              "│ max_pooling2d_4 (\u001b[38;5;33mMaxPooling2D\u001b[0m)       │ (\u001b[38;5;45mNone\u001b[0m, \u001b[38;5;34m14\u001b[0m, \u001b[38;5;34m14\u001b[0m, \u001b[38;5;34m32\u001b[0m)          │               \u001b[38;5;34m0\u001b[0m │\n",
              "├──────────────────────────────────────┼─────────────────────────────┼─────────────────┤\n",
              "│ flatten_4 (\u001b[38;5;33mFlatten\u001b[0m)                  │ (\u001b[38;5;45mNone\u001b[0m, \u001b[38;5;34m6272\u001b[0m)                │               \u001b[38;5;34m0\u001b[0m │\n",
              "├──────────────────────────────────────┼─────────────────────────────┼─────────────────┤\n",
              "│ dense_8 (\u001b[38;5;33mDense\u001b[0m)                      │ (\u001b[38;5;45mNone\u001b[0m, \u001b[38;5;34m128\u001b[0m)                 │         \u001b[38;5;34m802,944\u001b[0m │\n",
              "├──────────────────────────────────────┼─────────────────────────────┼─────────────────┤\n",
              "│ dense_9 (\u001b[38;5;33mDense\u001b[0m)                      │ (\u001b[38;5;45mNone\u001b[0m, \u001b[38;5;34m10\u001b[0m)                  │           \u001b[38;5;34m1,290\u001b[0m │\n",
              "└──────────────────────────────────────┴─────────────────────────────┴─────────────────┘\n"
            ],
            "text/html": [
              "<pre style=\"white-space:pre;overflow-x:auto;line-height:normal;font-family:Menlo,'DejaVu Sans Mono',consolas,'Courier New',monospace\">┏━━━━━━━━━━━━━━━━━━━━━━━━━━━━━━━━━━━━━━┳━━━━━━━━━━━━━━━━━━━━━━━━━━━━━┳━━━━━━━━━━━━━━━━━┓\n",
              "┃<span style=\"font-weight: bold\"> Layer (type)                         </span>┃<span style=\"font-weight: bold\"> Output Shape                </span>┃<span style=\"font-weight: bold\">         Param # </span>┃\n",
              "┡━━━━━━━━━━━━━━━━━━━━━━━━━━━━━━━━━━━━━━╇━━━━━━━━━━━━━━━━━━━━━━━━━━━━━╇━━━━━━━━━━━━━━━━━┩\n",
              "│ conv2d_4 (<span style=\"color: #0087ff; text-decoration-color: #0087ff\">Conv2D</span>)                    │ (<span style=\"color: #00d7ff; text-decoration-color: #00d7ff\">None</span>, <span style=\"color: #00af00; text-decoration-color: #00af00\">29</span>, <span style=\"color: #00af00; text-decoration-color: #00af00\">29</span>, <span style=\"color: #00af00; text-decoration-color: #00af00\">32</span>)          │           <span style=\"color: #00af00; text-decoration-color: #00af00\">1,568</span> │\n",
              "├──────────────────────────────────────┼─────────────────────────────┼─────────────────┤\n",
              "│ max_pooling2d_4 (<span style=\"color: #0087ff; text-decoration-color: #0087ff\">MaxPooling2D</span>)       │ (<span style=\"color: #00d7ff; text-decoration-color: #00d7ff\">None</span>, <span style=\"color: #00af00; text-decoration-color: #00af00\">14</span>, <span style=\"color: #00af00; text-decoration-color: #00af00\">14</span>, <span style=\"color: #00af00; text-decoration-color: #00af00\">32</span>)          │               <span style=\"color: #00af00; text-decoration-color: #00af00\">0</span> │\n",
              "├──────────────────────────────────────┼─────────────────────────────┼─────────────────┤\n",
              "│ flatten_4 (<span style=\"color: #0087ff; text-decoration-color: #0087ff\">Flatten</span>)                  │ (<span style=\"color: #00d7ff; text-decoration-color: #00d7ff\">None</span>, <span style=\"color: #00af00; text-decoration-color: #00af00\">6272</span>)                │               <span style=\"color: #00af00; text-decoration-color: #00af00\">0</span> │\n",
              "├──────────────────────────────────────┼─────────────────────────────┼─────────────────┤\n",
              "│ dense_8 (<span style=\"color: #0087ff; text-decoration-color: #0087ff\">Dense</span>)                      │ (<span style=\"color: #00d7ff; text-decoration-color: #00d7ff\">None</span>, <span style=\"color: #00af00; text-decoration-color: #00af00\">128</span>)                 │         <span style=\"color: #00af00; text-decoration-color: #00af00\">802,944</span> │\n",
              "├──────────────────────────────────────┼─────────────────────────────┼─────────────────┤\n",
              "│ dense_9 (<span style=\"color: #0087ff; text-decoration-color: #0087ff\">Dense</span>)                      │ (<span style=\"color: #00d7ff; text-decoration-color: #00d7ff\">None</span>, <span style=\"color: #00af00; text-decoration-color: #00af00\">10</span>)                  │           <span style=\"color: #00af00; text-decoration-color: #00af00\">1,290</span> │\n",
              "└──────────────────────────────────────┴─────────────────────────────┴─────────────────┘\n",
              "</pre>\n"
            ]
          },
          "metadata": {}
        },
        {
          "output_type": "display_data",
          "data": {
            "text/plain": [
              "\u001b[1m Total params: \u001b[0m\u001b[38;5;34m805,802\u001b[0m (3.07 MB)\n"
            ],
            "text/html": [
              "<pre style=\"white-space:pre;overflow-x:auto;line-height:normal;font-family:Menlo,'DejaVu Sans Mono',consolas,'Courier New',monospace\"><span style=\"font-weight: bold\"> Total params: </span><span style=\"color: #00af00; text-decoration-color: #00af00\">805,802</span> (3.07 MB)\n",
              "</pre>\n"
            ]
          },
          "metadata": {}
        },
        {
          "output_type": "display_data",
          "data": {
            "text/plain": [
              "\u001b[1m Trainable params: \u001b[0m\u001b[38;5;34m805,802\u001b[0m (3.07 MB)\n"
            ],
            "text/html": [
              "<pre style=\"white-space:pre;overflow-x:auto;line-height:normal;font-family:Menlo,'DejaVu Sans Mono',consolas,'Courier New',monospace\"><span style=\"font-weight: bold\"> Trainable params: </span><span style=\"color: #00af00; text-decoration-color: #00af00\">805,802</span> (3.07 MB)\n",
              "</pre>\n"
            ]
          },
          "metadata": {}
        },
        {
          "output_type": "display_data",
          "data": {
            "text/plain": [
              "\u001b[1m Non-trainable params: \u001b[0m\u001b[38;5;34m0\u001b[0m (0.00 B)\n"
            ],
            "text/html": [
              "<pre style=\"white-space:pre;overflow-x:auto;line-height:normal;font-family:Menlo,'DejaVu Sans Mono',consolas,'Courier New',monospace\"><span style=\"font-weight: bold\"> Non-trainable params: </span><span style=\"color: #00af00; text-decoration-color: #00af00\">0</span> (0.00 B)\n",
              "</pre>\n"
            ]
          },
          "metadata": {}
        }
      ]
    },
    {
      "cell_type": "code",
      "source": [
        "# MODEL FITTING\n",
        "model.fit(X_train1,Y_cat_train,verbose=1,epochs=5)"
      ],
      "metadata": {
        "colab": {
          "base_uri": "https://localhost:8080/"
        },
        "id": "EJnvGGvt-0Nk",
        "outputId": "59691829-901c-4bcc-b569-892a972b0f73"
      },
      "execution_count": 108,
      "outputs": [
        {
          "output_type": "stream",
          "name": "stdout",
          "text": [
            "Epoch 1/5\n",
            "\u001b[1m1563/1563\u001b[0m \u001b[32m━━━━━━━━━━━━━━━━━━━━\u001b[0m\u001b[37m\u001b[0m \u001b[1m50s\u001b[0m 31ms/step - accuracy: 0.3712 - loss: 1.7487\n",
            "Epoch 2/5\n",
            "\u001b[1m1563/1563\u001b[0m \u001b[32m━━━━━━━━━━━━━━━━━━━━\u001b[0m\u001b[37m\u001b[0m \u001b[1m77s\u001b[0m 28ms/step - accuracy: 0.5652 - loss: 1.2442\n",
            "Epoch 3/5\n",
            "\u001b[1m1563/1563\u001b[0m \u001b[32m━━━━━━━━━━━━━━━━━━━━\u001b[0m\u001b[37m\u001b[0m \u001b[1m43s\u001b[0m 28ms/step - accuracy: 0.6191 - loss: 1.0920\n",
            "Epoch 4/5\n",
            "\u001b[1m1563/1563\u001b[0m \u001b[32m━━━━━━━━━━━━━━━━━━━━\u001b[0m\u001b[37m\u001b[0m \u001b[1m85s\u001b[0m 30ms/step - accuracy: 0.6696 - loss: 0.9602\n",
            "Epoch 5/5\n",
            "\u001b[1m1563/1563\u001b[0m \u001b[32m━━━━━━━━━━━━━━━━━━━━\u001b[0m\u001b[37m\u001b[0m \u001b[1m79s\u001b[0m 28ms/step - accuracy: 0.6980 - loss: 0.8794\n"
          ]
        },
        {
          "output_type": "execute_result",
          "data": {
            "text/plain": [
              "<keras.src.callbacks.history.History at 0x7ed1a3a9f910>"
            ]
          },
          "metadata": {},
          "execution_count": 108
        }
      ]
    },
    {
      "cell_type": "code",
      "source": [
        "# EVALUATING THE MODEL\n",
        "model.evaluate(X_test1,Y_cat_test)"
      ],
      "metadata": {
        "colab": {
          "base_uri": "https://localhost:8080/"
        },
        "id": "vLy706eL_3dc",
        "outputId": "f29dfccf-4894-4f78-bb22-5ac4b8b57a4c"
      },
      "execution_count": 110,
      "outputs": [
        {
          "output_type": "stream",
          "name": "stdout",
          "text": [
            "\u001b[1m313/313\u001b[0m \u001b[32m━━━━━━━━━━━━━━━━━━━━\u001b[0m\u001b[37m\u001b[0m \u001b[1m2s\u001b[0m 8ms/step - accuracy: 0.6332 - loss: 1.0862\n"
          ]
        },
        {
          "output_type": "execute_result",
          "data": {
            "text/plain": [
              "[1.091138482093811, 0.6349999904632568]"
            ]
          },
          "metadata": {},
          "execution_count": 110
        }
      ]
    },
    {
      "cell_type": "code",
      "source": [
        "Y_Pred_test = model.predict(X_test)\n",
        "Y_Pred_test"
      ],
      "metadata": {
        "colab": {
          "base_uri": "https://localhost:8080/"
        },
        "id": "ueu7JrkmDY6Y",
        "outputId": "12f7b855-49e0-420c-9a8b-5578bafc44ed"
      },
      "execution_count": 111,
      "outputs": [
        {
          "output_type": "stream",
          "name": "stdout",
          "text": [
            "\u001b[1m313/313\u001b[0m \u001b[32m━━━━━━━━━━━━━━━━━━━━\u001b[0m\u001b[37m\u001b[0m \u001b[1m3s\u001b[0m 8ms/step\n"
          ]
        },
        {
          "output_type": "execute_result",
          "data": {
            "text/plain": [
              "array([[0.        , 0.        , 0.        , ..., 0.        , 0.        ,\n",
              "        0.        ],\n",
              "       [0.        , 0.99999994, 0.        , ..., 0.        , 0.        ,\n",
              "        0.        ],\n",
              "       [0.99999994, 0.        , 0.        , ..., 0.        , 0.        ,\n",
              "        0.        ],\n",
              "       ...,\n",
              "       [0.        , 0.        , 0.        , ..., 0.        , 0.        ,\n",
              "        0.        ],\n",
              "       [0.        , 0.99999994, 0.        , ..., 0.        , 0.        ,\n",
              "        0.        ],\n",
              "       [0.        , 0.        , 0.        , ..., 0.99999994, 0.        ,\n",
              "        0.        ]], dtype=float32)"
            ]
          },
          "metadata": {},
          "execution_count": 111
        }
      ]
    },
    {
      "cell_type": "code",
      "source": [
        "# Predicting by taking a image\n",
        "import numpy as np\n",
        "sample = X_train[4]\n",
        "print(\"sample.shape\",sample.shape)\n",
        "sample = sample.reshape(1,32,32,3)\n",
        "\n",
        "print(\"sample.shape: \",sample.shape)"
      ],
      "metadata": {
        "colab": {
          "base_uri": "https://localhost:8080/"
        },
        "id": "79VzkdEcDeam",
        "outputId": "25a1e7e5-b929-4625-927a-195e21a33141"
      },
      "execution_count": 112,
      "outputs": [
        {
          "output_type": "stream",
          "name": "stdout",
          "text": [
            "sample.shape (32, 32, 3)\n",
            "sample.shape:  (1, 32, 32, 3)\n"
          ]
        }
      ]
    },
    {
      "cell_type": "code",
      "source": [
        "plt.imshow(X_train[4])"
      ],
      "metadata": {
        "colab": {
          "base_uri": "https://localhost:8080/",
          "height": 447
        },
        "id": "aaaN6ZwtESog",
        "outputId": "21dc4bbd-9c2a-4989-be07-1b116f54f449"
      },
      "execution_count": 113,
      "outputs": [
        {
          "output_type": "execute_result",
          "data": {
            "text/plain": [
              "<matplotlib.image.AxesImage at 0x7ed1a3a9ef80>"
            ]
          },
          "metadata": {},
          "execution_count": 113
        },
        {
          "output_type": "display_data",
          "data": {
            "text/plain": [
              "<Figure size 640x480 with 1 Axes>"
            ],
            "image/png": "[encoded data removed]"
          },
          "metadata": {}
        }
      ]
    },
    {
      "cell_type": "code",
      "source": [
        "predicted_class = model.predict(sample)\n",
        "predicted_class"
      ],
      "metadata": {
        "colab": {
          "base_uri": "https://localhost:8080/"
        },
        "id": "z1LiR-noD3nF",
        "outputId": "2500fd9c-6769-44cd-d066-ff35aab5f84a"
      },
      "execution_count": 114,
      "outputs": [
        {
          "output_type": "stream",
          "name": "stdout",
          "text": [
            "\u001b[1m1/1\u001b[0m \u001b[32m━━━━━━━━━━━━━━━━━━━━\u001b[0m\u001b[37m\u001b[0m \u001b[1m0s\u001b[0m 22ms/step\n"
          ]
        },
        {
          "output_type": "execute_result",
          "data": {
            "text/plain": [
              "array([[0., 1., 0., 0., 0., 0., 0., 0., 0., 0.]], dtype=float32)"
            ]
          },
          "metadata": {},
          "execution_count": 114
        }
      ]
    }
  ]
}