{
 "cells": [
  {
   "cell_type": "code",
   "execution_count": 5,
   "id": "1a46c3a4",
   "metadata": {},
   "outputs": [
    {
     "name": "stdout",
     "output_type": "stream",
     "text": [
      "Enter any integer: 30\n",
      "30\n"
     ]
    },
    {
     "data": {
      "text/plain": [
       "str"
      ]
     },
     "execution_count": 5,
     "metadata": {},
     "output_type": "execute_result"
    }
   ],
   "source": [
    "# Interactive user input\n",
    "x = input(\"Enter any integer: \")\n",
    "print(x)\n",
    "type(x)"
   ]
  },
  {
   "cell_type": "code",
   "execution_count": 8,
   "id": "ad33ec76",
   "metadata": {},
   "outputs": [
    {
     "name": "stdout",
     "output_type": "stream",
     "text": [
      "20  is an even number\n"
     ]
    }
   ],
   "source": [
    "# If statement\n",
    "x = 20\n",
    "if x%2 == 0:\n",
    "    print(x,\"is an even number\")"
   ]
  },
  {
   "cell_type": "code",
   "execution_count": 29,
   "id": "5ebe1b5c",
   "metadata": {},
   "outputs": [
    {
     "name": "stdout",
     "output_type": "stream",
     "text": [
      "30 is an even number\n"
     ]
    }
   ],
   "source": [
    "# If else statement\n",
    "x = 30\n",
    "if x%2 == 0:\n",
    "    print(x,\"is an even number\")\n",
    "else:\n",
    "    print(x,\"is an odd number\")"
   ]
  },
  {
   "cell_type": "code",
   "execution_count": 18,
   "id": "f4858585",
   "metadata": {},
   "outputs": [
    {
     "name": "stdout",
     "output_type": "stream",
     "text": [
      "33  is a positive odd number\n"
     ]
    }
   ],
   "source": [
    "# Nested If else statement\n",
    "x = 33\n",
    "if x%2 == 0:\n",
    "    if x < 0:\n",
    "        print(x,\"is a negative even number\")\n",
    "    else:\n",
    "        print(x,\"is a positive even number\")\n",
    "else:\n",
    "    if x<0:\n",
    "        print(x,\"is a negative odd number\")\n",
    "    else:\n",
    "        print(x,\"is a positive odd number\")"
   ]
  },
  {
   "cell_type": "code",
   "execution_count": 25,
   "id": "38824e59",
   "metadata": {},
   "outputs": [
    {
     "name": "stdout",
     "output_type": "stream",
     "text": [
      "-33 is a negative odd number\n"
     ]
    }
   ],
   "source": [
    "# Use of if eliff else statement\n",
    "x =-33\n",
    "if (x%2 == 0 and x<0):\n",
    "    print(x,\"is a negative even number\")\n",
    "elif(x%2 == 0 and x>0):\n",
    "    print(x,\"is a positive even number\")\n",
    "elif(x%2 != 0 and x<0):\n",
    "    print(x,\"is a negative odd number\")\n",
    "else:\n",
    "    print(x,\"is a positive odd number\")"
   ]
  },
  {
   "cell_type": "code",
   "execution_count": 28,
   "id": "fcc8ade2",
   "metadata": {},
   "outputs": [
    {
     "name": "stdout",
     "output_type": "stream",
     "text": [
      "1 2 5 6 67 "
     ]
    }
   ],
   "source": [
    "for x in [1,2,5,6,67]:\n",
    "    print(x, end =' ')"
   ]
  },
  {
   "cell_type": "code",
   "execution_count": 32,
   "id": "acf804f1",
   "metadata": {},
   "outputs": [
    {
     "name": "stdout",
     "output_type": "stream",
     "text": [
      "-1 6 0 20 -20 "
     ]
    }
   ],
   "source": [
    "for each in (-1,6,0,20,-20):\n",
    "    print(each, end = \" \")"
   ]
  },
  {
   "cell_type": "code",
   "execution_count": 6,
   "id": "b828b010",
   "metadata": {},
   "outputs": [
    {
     "data": {
      "text/plain": [
       "{1, 5, 7, 100, 300}"
      ]
     },
     "execution_count": 6,
     "metadata": {},
     "output_type": "execute_result"
    }
   ],
   "source": [
    "set1 = {300,1,5,7,100}\n",
    "set1"
   ]
  },
  {
   "cell_type": "code",
   "execution_count": 7,
   "id": "589b5a4f",
   "metadata": {},
   "outputs": [
    {
     "name": "stdout",
     "output_type": "stream",
     "text": [
      "1 100 5 7 300 "
     ]
    }
   ],
   "source": [
    "for s in {300,1,5,7,100}:\n",
    "    print(s, end =' ')"
   ]
  },
  {
   "cell_type": "code",
   "execution_count": 35,
   "id": "2e007516",
   "metadata": {},
   "outputs": [
    {
     "name": "stdout",
     "output_type": "stream",
     "text": [
      "W e l c o m e   t o   t h e   w o r l d   o f   P y t h o n ! "
     ]
    }
   ],
   "source": [
    "for char in \"Welcome to the world of Python!\":\n",
    "    print(char,end=' ')"
   ]
  },
  {
   "cell_type": "code",
   "execution_count": 8,
   "id": "b1cf7493",
   "metadata": {},
   "outputs": [
    {
     "name": "stdout",
     "output_type": "stream",
     "text": [
      "5\n",
      "7\n",
      "9\n",
      "11\n",
      "13\n"
     ]
    }
   ],
   "source": [
    "for i in range(5,15,2):\n",
    "    print(i)"
   ]
  },
  {
   "cell_type": "code",
   "execution_count": 48,
   "id": "5d5273e5",
   "metadata": {},
   "outputs": [
    {
     "name": "stdout",
     "output_type": "stream",
     "text": [
      "10,20,100,40,90,"
     ]
    }
   ],
   "source": [
    "list1 = [10,20,100,40,90]\n",
    "for i in range(len(list1)):\n",
    "    print(list1[i],end =\",\")"
   ]
  },
  {
   "cell_type": "code",
   "execution_count": 13,
   "id": "d88ac05f",
   "metadata": {},
   "outputs": [
    {
     "name": "stdout",
     "output_type": "stream",
     "text": [
      "{'Sky': 'Blue', 'Sun': 'Shine', 'Rose': 'Red'}\n",
      "\n",
      " Printing items of dict1\n",
      "('Sky', 'Blue')\n",
      "('Sun', 'Shine')\n",
      "('Rose', 'Red')\n"
     ]
    }
   ],
   "source": [
    "dict1 = {\"Sky\":\"Blue\", \"Sun\":\"Shine\", \"Rose\":\"Red\"}\n",
    "print(dict1)\n",
    "print(\"\\n Printing items of dict1\")\n",
    "for each in dict1.items():\n",
    "    print(each)"
   ]
  },
  {
   "cell_type": "code",
   "execution_count": 18,
   "id": "51f639ac",
   "metadata": {},
   "outputs": [
    {
     "name": "stdout",
     "output_type": "stream",
     "text": [
      "Printing keys of dict1\n",
      "Sky,Sun,Rose,\n",
      "\n",
      "Printing values of dict1\n",
      "Blue,Shine,Red,"
     ]
    }
   ],
   "source": [
    "print(\"Printing keys of dict1\")\n",
    "for each in dict1.keys():\n",
    "    print(each, end = \",\")\n",
    "print(\"\\n\")\n",
    "print(\"Printing values of dict1\")\n",
    "for each in dict1.values():\n",
    "    print(each, end = \",\")"
   ]
  },
  {
   "cell_type": "code",
   "execution_count": 19,
   "id": "a750d202",
   "metadata": {
    "scrolled": true
   },
   "outputs": [
    {
     "name": "stdout",
     "output_type": "stream",
     "text": [
      "20,18,16,14,12,10,8,6,4,2,"
     ]
    }
   ],
   "source": [
    "value= 20\n",
    "while value > 0 :\n",
    "    print(value, end =\",\")\n",
    "    value -= 2"
   ]
  },
  {
   "cell_type": "code",
   "execution_count": 22,
   "id": "f9c108d6",
   "metadata": {},
   "outputs": [],
   "source": [
    "# User defined function \n",
    "def greet(a):\n",
    "    print(\"Hello\",a,\"Good Morning!\")\n",
    "def say(b):\n",
    "    print(\"You are\",b, \"fabulous\")"
   ]
  },
  {
   "cell_type": "code",
   "execution_count": 25,
   "id": "55160b5e",
   "metadata": {},
   "outputs": [
    {
     "name": "stdout",
     "output_type": "stream",
     "text": [
      "Hello Rajesh Good Morning!\n",
      "You are Seema fabulous\n"
     ]
    }
   ],
   "source": [
    "greet(\"Rajesh\")\n",
    "say(\"Seema\")"
   ]
  },
  {
   "cell_type": "markdown",
   "id": "4b91e62a",
   "metadata": {},
   "source": [
    "## Practice"
   ]
  },
  {
   "cell_type": "code",
   "execution_count": null,
   "id": "d24f7449",
   "metadata": {},
   "outputs": [],
   "source": [
    "# Write a udf the will accept a list of numbers and return the odd numers as  another list"
   ]
  },
  {
   "cell_type": "code",
   "execution_count": 5,
   "id": "15df68d7",
   "metadata": {},
   "outputs": [],
   "source": [
    "def oddnum(list1):\n",
    "    odd_num_list = []\n",
    "    for i in list1:\n",
    "        if i%2 !=0:\n",
    "             odd_num_list.append(i)\n",
    "    return odd_num_list"
   ]
  },
  {
   "cell_type": "code",
   "execution_count": 6,
   "id": "969f8f9a",
   "metadata": {},
   "outputs": [
    {
     "data": {
      "text/plain": [
       "[67, 79, 45, 33, -999]"
      ]
     },
     "execution_count": 6,
     "metadata": {},
     "output_type": "execute_result"
    }
   ],
   "source": [
    "oddnum([100,20,67,32,98,79,45,33,12,0,-100,-999])"
   ]
  },
  {
   "cell_type": "code",
   "execution_count": 31,
   "id": "79459474",
   "metadata": {},
   "outputs": [],
   "source": [
    "# Dictionary modification\n",
    "def dict_modify(d1):\n",
    "    for key in d1.keys():\n",
    "        new_val = []\n",
    "        for i in d1[key]:\n",
    "            if i%2==0:\n",
    "                i *= 0.5\n",
    "            new_val.append(i)\n",
    "            d1.update({key:new_val})\n",
    "    return d1      "
   ]
  },
  {
   "cell_type": "code",
   "execution_count": 32,
   "id": "b1a8b617",
   "metadata": {},
   "outputs": [
    {
     "data": {
      "text/plain": [
       "{'A': [5.0, 9, 4.0, 2.0, 3.0, 7], 'B': [50.0, 28.0, 25, 99, 42.0]}"
      ]
     },
     "execution_count": 32,
     "metadata": {},
     "output_type": "execute_result"
    }
   ],
   "source": [
    "dict_modify({'A': [10,9,8,4,6,7], \"B\":[100,56,25,99,84]})"
   ]
  },
  {
   "cell_type": "code",
   "execution_count": 33,
   "id": "38ea1c41",
   "metadata": {},
   "outputs": [
    {
     "data": {
      "text/plain": [
       "dict_keys(['A', 'B'])"
      ]
     },
     "execution_count": 33,
     "metadata": {},
     "output_type": "execute_result"
    }
   ],
   "source": [
    "d1 ={'A': [10,9,8,4,6,7], \"B\":[100,56,25,99,84]}\n",
    "d1.keys()"
   ]
  },
  {
   "cell_type": "code",
   "execution_count": 21,
   "id": "937998b9",
   "metadata": {},
   "outputs": [
    {
     "data": {
      "text/plain": [
       "9"
      ]
     },
     "execution_count": 21,
     "metadata": {},
     "output_type": "execute_result"
    }
   ],
   "source": [
    "def squared(x):\n",
    "    return x**2\n",
    "squared(3)"
   ]
  },
  {
   "cell_type": "code",
   "execution_count": 19,
   "id": "c25fb125",
   "metadata": {},
   "outputs": [],
   "source": [
    "# Use of Lambda functions\n",
    "square = lambda x:x**2"
   ]
  },
  {
   "cell_type": "code",
   "execution_count": 20,
   "id": "61b81e03",
   "metadata": {},
   "outputs": [
    {
     "data": {
      "text/plain": [
       "900"
      ]
     },
     "execution_count": 20,
     "metadata": {},
     "output_type": "execute_result"
    }
   ],
   "source": [
    "square(30)"
   ]
  },
  {
   "cell_type": "code",
   "execution_count": 23,
   "id": "0446086f",
   "metadata": {},
   "outputs": [],
   "source": [
    "f = lambda a,b:(3*a+4*b)"
   ]
  },
  {
   "cell_type": "code",
   "execution_count": 24,
   "id": "f8876aa7",
   "metadata": {},
   "outputs": [
    {
     "data": {
      "text/plain": [
       "250"
      ]
     },
     "execution_count": 24,
     "metadata": {},
     "output_type": "execute_result"
    }
   ],
   "source": [
    "f(30,40)"
   ]
  },
  {
   "cell_type": "code",
   "execution_count": 25,
   "id": "9f8c5e2c",
   "metadata": {},
   "outputs": [
    {
     "data": {
      "text/plain": [
       "[200, 40, 134, 64, 196, 158, 90, 66, 24, 0, -200, -1998]"
      ]
     },
     "execution_count": 25,
     "metadata": {},
     "output_type": "execute_result"
    }
   ],
   "source": [
    "# List comprehension\n",
    "L = [100,20,67,32,98,79,45,33,12,0,-100,-999]\n",
    "[ 2*each for each in L]"
   ]
  },
  {
   "cell_type": "code",
   "execution_count": 30,
   "id": "81cfd182",
   "metadata": {},
   "outputs": [
    {
     "data": {
      "text/plain": [
       "[100, 20, 32, 98, 12, 0, -100]"
      ]
     },
     "execution_count": 30,
     "metadata": {},
     "output_type": "execute_result"
    }
   ],
   "source": [
    "# List comprehension with if\n",
    "L1 = [100,20,67,32,98,79,45,33,12,0,-100,-999]\n",
    "[each for each in L1 if each%2==0]"
   ]
  },
  {
   "cell_type": "code",
   "execution_count": 28,
   "id": "ca160aa7",
   "metadata": {},
   "outputs": [
    {
     "data": {
      "text/plain": [
       "[50.0, 10.0, 67, 16.0, 49.0, 79, 45, 33, 6.0, 0.0, -50.0, -999]"
      ]
     },
     "execution_count": 28,
     "metadata": {},
     "output_type": "execute_result"
    }
   ],
   "source": [
    "# List comprehension with if else\n",
    "L2 = [100,20,67,32,98,79,45,33,12,0,-100,-999]\n",
    "[each *0.5 if each%2 ==0 else each for each in L2]"
   ]
  },
  {
   "cell_type": "code",
   "execution_count": 7,
   "id": "de138416",
   "metadata": {},
   "outputs": [],
   "source": [
    "# Write user defined function to increment salaries\n",
    "def sal_inc(list):\n",
    "    new_sal = []\n",
    "    for i in list:\n",
    "        if i <=50000:\n",
    "            new_sal.append(i*1.3)\n",
    "        else:\n",
    "            new_sal.append(i*1.2)\n",
    "    return new_sal        "
   ]
  },
  {
   "cell_type": "code",
   "execution_count": 10,
   "id": "57eb077e",
   "metadata": {},
   "outputs": [
    {
     "data": {
      "text/plain": [
       "[13000.0, 120000.0, 90000.0, 32500.0, 55900.0, 116400.0]"
      ]
     },
     "execution_count": 10,
     "metadata": {},
     "output_type": "execute_result"
    }
   ],
   "source": [
    "sal_inc([10000,100000,75000,25000,43000,97000])"
   ]
  },
  {
   "cell_type": "code",
   "execution_count": 15,
   "id": "f92c91c7",
   "metadata": {},
   "outputs": [
    {
     "data": {
      "text/plain": [
       "[13000.0, 120000.0, 90000.0, 32500.0, 55900.0, 116400.0]"
      ]
     },
     "execution_count": 15,
     "metadata": {},
     "output_type": "execute_result"
    }
   ],
   "source": [
    "# Write list comprehension with if else to increment the salaries\n",
    "sal = [10000,100000,75000,25000,43000,97000]\n",
    "[i*1.3 if (i <= 50000) else 1.2*i for i in sal ]"
   ]
  },
  {
   "cell_type": "code",
   "execution_count": null,
   "id": "9db63dc9",
   "metadata": {},
   "outputs": [],
   "source": []
  }
 ],
 "metadata": {
  "kernelspec": {
   "display_name": "Python 3 (ipykernel)",
   "language": "python",
   "name": "python3"
  },
  "language_info": {
   "codemirror_mode": {
    "name": "ipython",
    "version": 3
   },
   "file_extension": ".py",
   "mimetype": "text/x-python",
   "name": "python",
   "nbconvert_exporter": "python",
   "pygments_lexer": "ipython3",
   "version": "3.11.3"
  }
 },
 "nbformat": 4,
 "nbformat_minor": 5
}
