{
 "cells": [
  {
   "cell_type": "code",
   "execution_count": 5,
   "id": "344d2d65-f08b-443f-be19-f98d27c75572",
   "metadata": {},
   "outputs": [
    {
     "name": "stdin",
     "output_type": "stream",
     "text": [
      " 1 3 2 3 4 5 3\n"
     ]
    },
    {
     "name": "stdout",
     "output_type": "stream",
     "text": [
      "[1, 3, 3, 5, 3]\n"
     ]
    }
   ],
   "source": [
    "# WRITE A USER DEFINED FUNCTION THAT ACCEPTS A LIST OF NUMBERS AND RETURN THE ODD NUMBERS AS ANOTHER LIST \n",
    "\n",
    "def func1(l) : \n",
    "    ans = []\n",
    "    for i in l:\n",
    "        if i&1 : \n",
    "            ans.append(i)\n",
    "    return ans \n",
    "\n",
    "l = list(map(int,input().split()))\n",
    "print(func1(l))"
   ]
  },
  {
   "cell_type": "code",
   "execution_count": 9,
   "id": "c4c93814-40d7-427e-9440-b9d306320a9c",
   "metadata": {},
   "outputs": [],
   "source": [
    "# WRITE A USER DEFINED FUNCTION TO READ A DICTIONARY AND RETURN ALL THE VALUES OF KEYS MULTIPLIED BY 0.5 IF IT IS EVEN NUMBER\n",
    "\n",
    "def dict_modify(d1):\n",
    "    d2 = {} \n",
    "    for i in d1 :\n",
    "        d2[i] = [] \n",
    "        for j in d1[i]:\n",
    "            if j%2 == 0 : \n",
    "                d2[i].append(j//2)\n",
    "            else:\n",
    "                d2[i].append(j)\n",
    "    return d2 "
   ]
  },
  {
   "cell_type": "code",
   "execution_count": 16,
   "id": "f46c27c8-596c-450a-9ecd-fb212447d172",
   "metadata": {},
   "outputs": [
    {
     "name": "stdout",
     "output_type": "stream",
     "text": [
      "{'A': [5, 9, 4, 2, 3, 7], 'B': [50, 28, 25, 99, 42]}\n"
     ]
    }
   ],
   "source": [
    "d1 = {'A' : [10,9,8,4,6,7] , 'B' : [100,56,25,99,84]}\n",
    "print(dict_modify(d1))"
   ]
  },
  {
   "cell_type": "code",
   "execution_count": null,
   "id": "49868575-1a58-48d3-bbfb-e2a56447c1e0",
   "metadata": {},
   "outputs": [],
   "source": []
  },
  {
   "cell_type": "markdown",
   "id": "f03eeaef-8d31-451a-adaf-25d1fae68484",
   "metadata": {},
   "source": [
    "lambda functions "
   ]
  },
  {
   "cell_type": "code",
   "execution_count": 11,
   "id": "d52cef88-2ae5-418b-8bc4-ab7149447ad4",
   "metadata": {},
   "outputs": [
    {
     "data": {
      "text/plain": [
       "16"
      ]
     },
     "execution_count": 11,
     "metadata": {},
     "output_type": "execute_result"
    }
   ],
   "source": [
    "square = lambda x : x**2 \n",
    "square(4) "
   ]
  },
  {
   "cell_type": "code",
   "execution_count": 15,
   "id": "aeac2446-0e42-4e19-af5d-9160052297db",
   "metadata": {},
   "outputs": [
    {
     "data": {
      "text/plain": [
       "25"
      ]
     },
     "execution_count": 15,
     "metadata": {},
     "output_type": "execute_result"
    }
   ],
   "source": [
    "f = lambda a,b : 3*a + 4*b\n",
    "f(3,4)"
   ]
  },
  {
   "cell_type": "code",
   "execution_count": null,
   "id": "883d69f0-e34b-478b-92f3-7de759af2123",
   "metadata": {},
   "outputs": [],
   "source": []
  },
  {
   "cell_type": "markdown",
   "id": "d55ac6dc-8ca1-4946-8fdd-a4d711428fc8",
   "metadata": {},
   "source": [
    "List Comprehension "
   ]
  },
  {
   "cell_type": "code",
   "execution_count": 17,
   "id": "23df3b72-1e58-413d-ab43-4dce6b52fd80",
   "metadata": {},
   "outputs": [
    {
     "data": {
      "text/plain": [
       "[200, 40, 134, 64, 196, 158, 90, 66]"
      ]
     },
     "execution_count": 17,
     "metadata": {},
     "output_type": "execute_result"
    }
   ],
   "source": [
    "L = [100, 20, 67, 32, 98, 79, 45, 33]\n",
    "[2*i for i in L]"
   ]
  },
  {
   "cell_type": "code",
   "execution_count": 18,
   "id": "05c62063-ab8e-4d3c-85b6-55d5302b0631",
   "metadata": {},
   "outputs": [
    {
     "data": {
      "text/plain": [
       "[100, 20, 32, 98]"
      ]
     },
     "execution_count": 18,
     "metadata": {},
     "output_type": "execute_result"
    }
   ],
   "source": [
    "L1 = [i for i in L if i%2 == 0]\n",
    "L1"
   ]
  },
  {
   "cell_type": "code",
   "execution_count": 20,
   "id": "a189da60-474b-4e56-a9dd-3435afe2a460",
   "metadata": {},
   "outputs": [
    {
     "data": {
      "text/plain": [
       "[50, 10, 67, 16, 49, 79, 45, 33, 6, 0, -50, -999]"
      ]
     },
     "execution_count": 20,
     "metadata": {},
     "output_type": "execute_result"
    }
   ],
   "source": [
    "L2 = [100, 20, 67, 32, 98, 79, 45, 33, 12, 0, -100, -999]\n",
    "[i//2 if i%2 == 0 else i for i in L2]"
   ]
  },
  {
   "cell_type": "code",
   "execution_count": null,
   "id": "b71a8117-36d7-4367-a947-505b58880ac8",
   "metadata": {},
   "outputs": [],
   "source": []
  }
 ],
 "metadata": {
  "kernelspec": {
   "display_name": "Python 3 (ipykernel)",
   "language": "python",
   "name": "python3"
  },
  "language_info": {
   "codemirror_mode": {
    "name": "ipython",
    "version": 3
   },
   "file_extension": ".py",
   "mimetype": "text/x-python",
   "name": "python",
   "nbconvert_exporter": "python",
   "pygments_lexer": "ipython3",
   "version": "3.11.7"
  }
 },
 "nbformat": 4,
 "nbformat_minor": 5
}
